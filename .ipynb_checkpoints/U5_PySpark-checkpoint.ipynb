{
 "cells": [
  {
   "cell_type": "markdown",
   "id": "8e503c97",
   "metadata": {},
   "source": [
    "# U5_ClústerSpark_HDP Investigación\n",
    "## BIG DATA\n",
    "### Clima en Coahuila\n",
    "* Jesus Adrian Lopez Luevanos   #18131253\n",
    "* Angelica Jacqueline Hernandez Lopez  #18131249"
   ]
  },
  {
   "cell_type": "code",
   "execution_count": 7,
   "id": "19f1cb14",
   "metadata": {},
   "outputs": [],
   "source": [
    "import findspark\n",
    "findspark.init()"
   ]
  },
  {
   "cell_type": "code",
   "execution_count": 8,
   "id": "06377913",
   "metadata": {},
   "outputs": [],
   "source": [
    "from pyspark.sql import SparkSession"
   ]
  },
  {
   "cell_type": "code",
   "execution_count": 39,
   "id": "a4396ba7",
   "metadata": {},
   "outputs": [],
   "source": [
    "from pyspark.sql.types import *\n",
    "from pyspark.sql.functions import *"
   ]
  },
  {
   "cell_type": "code",
   "execution_count": 11,
   "id": "c75b640c",
   "metadata": {},
   "outputs": [],
   "source": [
    "arch_Cand = \"C:\\BigData\\DataSets\\Estacion_CANDELA__90_dias.csv\"\n",
    "arch_CuatroC = \"C:\\BigData\\DataSets\\Estacion_CUATROCIENEGAS__90_dias.csv\"\n",
    "arch_Moncl = \"C:\\BigData\\DataSets\\Estacion_MONCLOVA_ESIME__90_dias.csv\"\n",
    "arch_Morel = \"C:\\BigData\\DataSets\\Estacion_MORELOSMUZQUIZ__90_dias.csv\"\n",
    "arch_NuevaR = \"C:\\BigData\\DataSets\\Estacion_NUEVAROSITA__90_dias.csv\"\n",
    "arch_Ocam = \"C:\\BigData\\DataSets\\Estacion_OCAMPO__90_dias.csv\"\n",
    "arch_OcamSMN= \"C:\\BigData\\DataSets\\Estacion_OCAMPOSMN__90_dias.csv\"\n",
    "arch_PiedrasN = \"C:\\BigData\\DataSets\\Estacion_PIEDRAS_NEGRAS__90_dias.csv\"\n",
    "arch_Salti = \"C:\\BigData\\DataSets\\Estacion_SALTILLO__90_dias.csv\"\n",
    "arch_SantaC = \"C:\\BigData\\DataSets\\Estacion_SANTACECILIA__90_dias.csv\"\n",
    "arch_TRC = \"C:\\BigData\\DataSets\\Estacion_TORREON__90_dias.csv\"\n",
    "arch_VenusCa = \"C:\\BigData\\DataSets\\Estacion_VENUSTIANOCARRANZASMN__90_dias.csv\""
   ]
  },
  {
   "cell_type": "markdown",
   "id": "fb124df2",
   "metadata": {},
   "source": [
    "### Dataset \"Estacion_CANDELA__90_dias.csv\""
   ]
  },
  {
   "cell_type": "code",
   "execution_count": 41,
   "id": "101687ec",
   "metadata": {},
   "outputs": [],
   "source": [
    "df_Cand = spark.read.format(\"csv\")\\\n",
    ".option(\"inferSchema\", False)\\\n",
    ".option(\"header\",True)\\\n",
    ".option(\"sep\", \",\")\\\n",
    ".load(arch_Cand)"
   ]
  },
  {
   "cell_type": "code",
   "execution_count": 42,
   "id": "0d7b84e8",
   "metadata": {},
   "outputs": [
    {
     "name": "stdout",
     "output_type": "stream",
     "text": [
      "+-----------+---------+-------------------------+------------------+--------------------+-------------------------+----------------------+-----------------------------+------------------------+----------------------------+------------------------+\n",
      "|Fecha Local|Fecha UTC|Temperatura del Aire (°C)|Precipitación (mm)|Humedad relativa (%)|Presión Atmosférica (hpa)|Radiación Solar (W/m²)|Dirección del Viento (grados)|Rapidez de viento (km/h)|Dirección de ráfaga (grados)|Rapidez de ráfaga (km/h)|\n",
      "+-----------+---------+-------------------------+------------------+--------------------+-------------------------+----------------------+-----------------------------+------------------------+----------------------------+------------------------+\n",
      "+-----------+---------+-------------------------+------------------+--------------------+-------------------------+----------------------+-----------------------------+------------------------+----------------------------+------------------------+\n",
      "\n"
     ]
    }
   ],
   "source": [
    "df_Cand.show()"
   ]
  },
  {
   "cell_type": "code",
   "execution_count": 43,
   "id": "9a3a98b3",
   "metadata": {},
   "outputs": [
    {
     "data": {
      "text/plain": [
       "0"
      ]
     },
     "execution_count": 43,
     "metadata": {},
     "output_type": "execute_result"
    }
   ],
   "source": [
    "df_Cand.count()"
   ]
  },
  {
   "cell_type": "code",
   "execution_count": 44,
   "id": "6e423de3",
   "metadata": {},
   "outputs": [
    {
     "data": {
      "text/plain": [
       "['Fecha Local',\n",
       " 'Fecha UTC',\n",
       " 'Temperatura del Aire (°C)',\n",
       " 'Precipitación (mm)',\n",
       " 'Humedad relativa (%)',\n",
       " 'Presión Atmosférica (hpa)',\n",
       " 'Radiación Solar (W/m²)',\n",
       " 'Dirección del Viento (grados)',\n",
       " 'Rapidez de viento (km/h)',\n",
       " 'Dirección de ráfaga (grados)',\n",
       " 'Rapidez de ráfaga (km/h)']"
      ]
     },
     "execution_count": 44,
     "metadata": {},
     "output_type": "execute_result"
    }
   ],
   "source": [
    "df_Cand.columns"
   ]
  },
  {
   "cell_type": "code",
   "execution_count": 45,
   "id": "441332f3",
   "metadata": {},
   "outputs": [
    {
     "name": "stdout",
     "output_type": "stream",
     "text": [
      "root\n",
      " |-- Fecha Local: string (nullable = true)\n",
      " |-- Fecha UTC: string (nullable = true)\n",
      " |-- Temperatura del Aire (°C): string (nullable = true)\n",
      " |-- Precipitación (mm): string (nullable = true)\n",
      " |-- Humedad relativa (%): string (nullable = true)\n",
      " |-- Presión Atmosférica (hpa): string (nullable = true)\n",
      " |-- Radiación Solar (W/m²): string (nullable = true)\n",
      " |-- Dirección del Viento (grados): string (nullable = true)\n",
      " |-- Rapidez de viento (km/h): string (nullable = true)\n",
      " |-- Dirección de ráfaga (grados): string (nullable = true)\n",
      " |-- Rapidez de ráfaga (km/h): string (nullable = true)\n",
      "\n"
     ]
    }
   ],
   "source": [
    "df_Cand.printSchema()"
   ]
  },
  {
   "cell_type": "code",
   "execution_count": 52,
   "id": "afd37bd4",
   "metadata": {},
   "outputs": [],
   "source": [
    "col_Cand = ['Fecha Local', 'Temperatura del Aire (°C)','Precipitación (mm)',\n",
    "       'Humedad relativa (%)', 'Radiación Solar (W/m²)']"
   ]
  },
  {
   "cell_type": "code",
   "execution_count": 53,
   "id": "af646629",
   "metadata": {},
   "outputs": [],
   "source": [
    "subconjunto = df_Cand.select(*col_Cand)"
   ]
  },
  {
   "cell_type": "code",
   "execution_count": 54,
   "id": "9ceadc41",
   "metadata": {},
   "outputs": [
    {
     "name": "stdout",
     "output_type": "stream",
     "text": [
      "+-----------+-------------------------+------------------+--------------------+----------------------+\n",
      "|Fecha Local|Temperatura del Aire (°C)|Precipitación (mm)|Humedad relativa (%)|Radiación Solar (W/m²)|\n",
      "+-----------+-------------------------+------------------+--------------------+----------------------+\n",
      "+-----------+-------------------------+------------------+--------------------+----------------------+\n",
      "\n"
     ]
    }
   ],
   "source": [
    "subconjunto.show()"
   ]
  },
  {
   "cell_type": "code",
   "execution_count": 55,
   "id": "3242c973",
   "metadata": {},
   "outputs": [
    {
     "data": {
      "text/plain": [
       "0"
      ]
     },
     "execution_count": 55,
     "metadata": {},
     "output_type": "execute_result"
    }
   ],
   "source": [
    "#Cantidad de datos totales \n",
    "subconjunto.filter((df_Cand['Fecha Local']!='')&(df_Cand['Fecha Local'].isNotNull())&(~isnan(df_Cand['Fecha Local']))).count()"
   ]
  },
  {
   "cell_type": "code",
   "execution_count": 56,
   "id": "a2d1d46a",
   "metadata": {},
   "outputs": [
    {
     "data": {
      "text/plain": [
       "0"
      ]
     },
     "execution_count": 56,
     "metadata": {},
     "output_type": "execute_result"
    }
   ],
   "source": [
    "#Cantidad de datos vacios segun Fecha Local\n",
    "subconjunto.filter((df_Cand['Fecha Local']=='')|(df_Cand['Fecha Local'].isNull())|(isnan(df_Cand['Fecha Local']))).count()"
   ]
  },
  {
   "cell_type": "markdown",
   "id": "85b65ede",
   "metadata": {},
   "source": [
    "### Dataset \"Estacion_CUATROCIENEGAS__90_dias.csv\"\n"
   ]
  },
  {
   "cell_type": "code",
   "execution_count": 29,
   "id": "4ce2c2b6",
   "metadata": {},
   "outputs": [],
   "source": [
    "#Cargamos nuestro Dataset a trabajar con las especificaciones\n",
    "#necesarias para la correcta lectura\n",
    "df_CuatroC = spark.read.format(\"csv\")\\\n",
    ".option(\"inferSchema\", False)\\\n",
    ".option(\"header\",True)\\\n",
    ".option(\"sep\", \",\")\\\n",
    ".load(arch_CuatroC)"
   ]
  },
  {
   "cell_type": "code",
   "execution_count": 30,
   "id": "b7ced210",
   "metadata": {
    "collapsed": true
   },
   "outputs": [
    {
     "name": "stdout",
     "output_type": "stream",
     "text": [
      "+----------------+----------------+-----------------------------+----------------------------+------------------------+------------------------+-------------------------+--------------------+-------------------------+------------------+----------------------+\n",
      "|     Fecha Local|       Fecha UTC|Dirección del Viento (grados)|Dirección de ráfaga (grados)|Rapidez de viento (km/h)|Rapidez de ráfaga (km/h)|Temperatura del Aire (°C)|Humedad relativa (%)|Presión Atmosférica (hpa)|Precipitación (mm)|Radiación Solar (W/m²)|\n",
      "+----------------+----------------+-----------------------------+----------------------------+------------------------+------------------------+-------------------------+--------------------+-------------------------+------------------+----------------------+\n",
      "|15/11/2022 09:10|15/11/2022 15:10|                          110|                         133|                    24.7|                    41.7|                     12.8|                  32|                      938|                 0|                   377|\n",
      "|15/11/2022 09:00|15/11/2022 15:00|                          103|                         126|                    22.3|                    40.5|                     12.4|                  32|                    937.9|                 0|                   332|\n",
      "|15/11/2022 08:50|15/11/2022 14:50|                          111|                         112|                    22.8|                    38.9|                     12.2|                  33|                    937.9|                 0|                   295|\n",
      "|15/11/2022 08:40|15/11/2022 14:40|                          118|                         136|                    23.8|                    38.4|                     11.9|                  33|                    937.9|                 0|                   262|\n",
      "|15/11/2022 08:30|15/11/2022 14:30|                          133|                         154|                    20.4|                    32.2|                     11.6|                  34|                    937.9|                 0|                   208|\n",
      "|15/11/2022 08:20|15/11/2022 14:20|                          147|                         192|                    19.5|                    34.8|                     11.1|                  35|                    937.8|                 0|                   158|\n",
      "|15/11/2022 08:10|15/11/2022 14:10|                          138|                         161|                    20.5|                    32.7|                       11|                  35|                    937.8|                 0|                   174|\n",
      "|15/11/2022 08:00|15/11/2022 14:00|                          146|                         165|                    22.1|                    33.1|                     10.8|                  36|                    937.5|                 0|                   155|\n",
      "|15/11/2022 07:50|15/11/2022 13:50|                          132|                         145|                    24.8|                    36.4|                     10.6|                  36|                    937.4|                 0|                   125|\n",
      "|15/11/2022 07:40|15/11/2022 13:40|                          130|                         149|                    23.2|                    37.4|                     10.4|                  36|                    937.2|                 0|                    72|\n",
      "|15/11/2022 07:30|15/11/2022 13:30|                          134|                         164|                    21.6|                      33|                     10.2|                  37|                      937|                 0|                    39|\n",
      "|15/11/2022 07:20|15/11/2022 13:20|                          135|                         144|                    23.5|                    40.9|                     10.2|                  37|                    936.9|                 0|                    13|\n",
      "|15/11/2022 07:10|15/11/2022 13:10|                          129|                         137|                    25.9|                    43.5|                     10.3|                  36|                    936.7|                 0|                     4|\n",
      "|15/11/2022 07:00|15/11/2022 13:00|                          139|                         166|                      23|                    40.9|                     10.1|                  37|                    936.5|                 0|                     0|\n",
      "|15/11/2022 06:50|15/11/2022 12:50|                          142|                         170|                    22.7|                    38.9|                     10.1|                  37|                    936.3|                 0|                     0|\n",
      "|15/11/2022 06:40|15/11/2022 12:40|                          142|                         133|                    18.9|                    29.4|                     10.2|                  37|                    936.2|                 0|                     0|\n",
      "|15/11/2022 06:30|15/11/2022 12:30|                          136|                         142|                    21.4|                    31.4|                     10.2|                  37|                      936|                 0|                     0|\n",
      "|15/11/2022 06:20|15/11/2022 12:20|                          143|                         163|                    19.8|                    35.1|                       10|                  37|                    935.9|                 0|                     0|\n",
      "|15/11/2022 06:10|15/11/2022 12:10|                          146|                         149|                    21.4|                    38.6|                       10|                  38|                    935.7|                 0|                     0|\n",
      "|15/11/2022 06:00|15/11/2022 12:00|                          146|                         158|                    21.5|                    33.4|                      9.9|                  38|                    935.5|                 0|                     0|\n",
      "+----------------+----------------+-----------------------------+----------------------------+------------------------+------------------------+-------------------------+--------------------+-------------------------+------------------+----------------------+\n",
      "only showing top 20 rows\n",
      "\n"
     ]
    }
   ],
   "source": [
    "#Mostramos los datos cargados\n",
    "df_CuatroC.show()"
   ]
  },
  {
   "cell_type": "code",
   "execution_count": 31,
   "id": "3f38a150",
   "metadata": {},
   "outputs": [
    {
     "data": {
      "text/plain": [
       "12928"
      ]
     },
     "execution_count": 31,
     "metadata": {},
     "output_type": "execute_result"
    }
   ],
   "source": [
    "#Verificamos la cantidad de datos que contiene el dataset\n",
    "df_CuatroC.count() #Vemos la cantidad de "
   ]
  },
  {
   "cell_type": "code",
   "execution_count": 32,
   "id": "4b5d6bf1",
   "metadata": {
    "scrolled": true
   },
   "outputs": [
    {
     "data": {
      "text/plain": [
       "['Fecha Local',\n",
       " 'Fecha UTC',\n",
       " 'Dirección del Viento (grados)',\n",
       " 'Dirección de ráfaga (grados)',\n",
       " 'Rapidez de viento (km/h)',\n",
       " 'Rapidez de ráfaga (km/h)',\n",
       " 'Temperatura del Aire (°C)',\n",
       " 'Humedad relativa (%)',\n",
       " 'Presión Atmosférica (hpa)',\n",
       " 'Precipitación (mm)',\n",
       " 'Radiación Solar (W/m²)']"
      ]
     },
     "execution_count": 32,
     "metadata": {},
     "output_type": "execute_result"
    }
   ],
   "source": [
    "#Verificamos las columnas que contiene\n",
    "df_CuatroC.columns"
   ]
  },
  {
   "cell_type": "code",
   "execution_count": 57,
   "id": "8ffaed6e",
   "metadata": {},
   "outputs": [],
   "source": [
    "#Creamos un subconjunto que filtrar las 5 columnas seleccionadas para trabajar \n",
    "col_CuatroC = ['Fecha Local', 'Dirección del Viento (grados)','Dirección de ráfaga (grados)',\n",
    "       'Rapidez de viento (km/h)', 'Rapidez de ráfaga (km/h)']"
   ]
  },
  {
   "cell_type": "code",
   "execution_count": 58,
   "id": "4d7d6006",
   "metadata": {},
   "outputs": [],
   "source": [
    "subconjunto = df_CuatroC.select(*col_CuatroC)"
   ]
  },
  {
   "cell_type": "code",
   "execution_count": 59,
   "id": "e5a97431",
   "metadata": {
    "collapsed": true
   },
   "outputs": [
    {
     "name": "stdout",
     "output_type": "stream",
     "text": [
      "+----------------+-----------------------------+----------------------------+------------------------+------------------------+\n",
      "|     Fecha Local|Dirección del Viento (grados)|Dirección de ráfaga (grados)|Rapidez de viento (km/h)|Rapidez de ráfaga (km/h)|\n",
      "+----------------+-----------------------------+----------------------------+------------------------+------------------------+\n",
      "|15/11/2022 09:10|                          110|                         133|                    24.7|                    41.7|\n",
      "|15/11/2022 09:00|                          103|                         126|                    22.3|                    40.5|\n",
      "|15/11/2022 08:50|                          111|                         112|                    22.8|                    38.9|\n",
      "|15/11/2022 08:40|                          118|                         136|                    23.8|                    38.4|\n",
      "|15/11/2022 08:30|                          133|                         154|                    20.4|                    32.2|\n",
      "|15/11/2022 08:20|                          147|                         192|                    19.5|                    34.8|\n",
      "|15/11/2022 08:10|                          138|                         161|                    20.5|                    32.7|\n",
      "|15/11/2022 08:00|                          146|                         165|                    22.1|                    33.1|\n",
      "|15/11/2022 07:50|                          132|                         145|                    24.8|                    36.4|\n",
      "|15/11/2022 07:40|                          130|                         149|                    23.2|                    37.4|\n",
      "|15/11/2022 07:30|                          134|                         164|                    21.6|                      33|\n",
      "|15/11/2022 07:20|                          135|                         144|                    23.5|                    40.9|\n",
      "|15/11/2022 07:10|                          129|                         137|                    25.9|                    43.5|\n",
      "|15/11/2022 07:00|                          139|                         166|                      23|                    40.9|\n",
      "|15/11/2022 06:50|                          142|                         170|                    22.7|                    38.9|\n",
      "|15/11/2022 06:40|                          142|                         133|                    18.9|                    29.4|\n",
      "|15/11/2022 06:30|                          136|                         142|                    21.4|                    31.4|\n",
      "|15/11/2022 06:20|                          143|                         163|                    19.8|                    35.1|\n",
      "|15/11/2022 06:10|                          146|                         149|                    21.4|                    38.6|\n",
      "|15/11/2022 06:00|                          146|                         158|                    21.5|                    33.4|\n",
      "+----------------+-----------------------------+----------------------------+------------------------+------------------------+\n",
      "only showing top 20 rows\n",
      "\n"
     ]
    }
   ],
   "source": [
    "#Mostramos el subconjunto creado para verificar que las columnas y datos \n",
    "#que se han querido filtrar son las correctas\n",
    "subconjunto.show()"
   ]
  },
  {
   "cell_type": "code",
   "execution_count": 38,
   "id": "3926f151",
   "metadata": {},
   "outputs": [
    {
     "data": {
      "text/plain": [
       "12928"
      ]
     },
     "execution_count": 38,
     "metadata": {},
     "output_type": "execute_result"
    }
   ],
   "source": [
    "#Mostramos la cantidad total en el subconjunto segun la Fecha Local\n",
    "subconjunto.filter((df_CuatroC['Fecha Local']!='')&(df_CuatroC['Fecha Local'].isNotNull())&(~isnan(df_CuatroC['Fecha Local']))).count()"
   ]
  },
  {
   "cell_type": "code",
   "execution_count": 60,
   "id": "fe40941c",
   "metadata": {},
   "outputs": [
    {
     "data": {
      "text/plain": [
       "0"
      ]
     },
     "execution_count": 60,
     "metadata": {},
     "output_type": "execute_result"
    }
   ],
   "source": [
    "#Mostramos la cantidad de datos vacios en el subconjunto segun Fecha Local\n",
    "subconjunto.filter((df_CuatroC['Fecha Local']=='')|(df_CuatroC['Fecha Local'].isNull())|(isnan(df_CuatroC['Fecha Local']))).count()"
   ]
  },
  {
   "cell_type": "code",
   "execution_count": 65,
   "id": "af186e4f",
   "metadata": {},
   "outputs": [],
   "source": [
    "#Para empezar a manipular los datos del dataset,\n",
    "#utilizaremos un subconjunto temporal \n",
    "#para evitar modificaciones en el dataset original,\n",
    "#lo primero a realizar en el subconjunto temporal\n",
    "#es eliminar los datos nulos o vacios\n",
    "temp_CuatroC = subconjunto.filter((df_CuatroC['Fecha Local']!='')&(df_CuatroC['Fecha Local'].isNotNull())&(~isnan(df_CuatroC['Fecha Local'])))"
   ]
  },
  {
   "cell_type": "code",
   "execution_count": 73,
   "id": "f6cc2244",
   "metadata": {
    "collapsed": true
   },
   "outputs": [
    {
     "name": "stdout",
     "output_type": "stream",
     "text": [
      "+-----------------------------+-----+\n",
      "|Dirección del Viento (grados)|count|\n",
      "+-----------------------------+-----+\n",
      "|                          296|   11|\n",
      "|                          125|   68|\n",
      "|                          124|   91|\n",
      "|                            7|   11|\n",
      "|                           51|    3|\n",
      "|                          307|   41|\n",
      "|                          205|   20|\n",
      "|                          334|   51|\n",
      "|                          169|   16|\n",
      "|                          272|    6|\n",
      "|                          234|    6|\n",
      "|                           15|    8|\n",
      "|                          232|    3|\n",
      "|                           54|    2|\n",
      "|                          282|   10|\n",
      "|                          155|   24|\n",
      "|                          132|   61|\n",
      "|                          317|  130|\n",
      "|                          154|   21|\n",
      "|                          200|   45|\n",
      "+-----------------------------+-----+\n",
      "only showing top 20 rows\n",
      "\n"
     ]
    }
   ],
   "source": [
    "#Calcular las frecuencias por columna\n",
    "#en este ejercicio se utilizo la columna 'Dirección del Viento (grados)'\n",
    "temp_CuatroC.groupBy(subconjunto['Dirección del Viento (grados)']).count().show()"
   ]
  },
  {
   "cell_type": "code",
   "execution_count": 76,
   "id": "bb43c011",
   "metadata": {
    "collapsed": true
   },
   "outputs": [
    {
     "name": "stdout",
     "output_type": "stream",
     "text": [
      "+----------------------------+-----+\n",
      "|Dirección de ráfaga (grados)|count|\n",
      "+----------------------------+-----+\n",
      "|                         133|  204|\n",
      "|                         134|  204|\n",
      "|                         119|  200|\n",
      "|                         360|  197|\n",
      "|                         114|  196|\n",
      "|                         127|  194|\n",
      "|                         124|  192|\n",
      "|                         331|  187|\n",
      "|                         123|  181|\n",
      "|                         118|  180|\n",
      "|                         120|  175|\n",
      "|                         121|  169|\n",
      "|                         128|  167|\n",
      "|                         329|  160|\n",
      "|                         320|  155|\n",
      "|                         330|  155|\n",
      "|                         334|  154|\n",
      "|                         136|  153|\n",
      "|                         321|  153|\n",
      "|                         326|  150|\n",
      "+----------------------------+-----+\n",
      "only showing top 20 rows\n",
      "\n"
     ]
    }
   ],
   "source": [
    "#Numero de repeticiones que aparece \n",
    "#un dato en la columna 'Dirección de ráfaga (grados)'\n",
    "#Se ordenaron de manera descendente\n",
    "temp_CuatroC.groupBy(temp_CuatroC['Dirección de ráfaga (grados)']).count().sort(desc('count')).show()"
   ]
  },
  {
   "cell_type": "code",
   "execution_count": 75,
   "id": "e28319be",
   "metadata": {
    "collapsed": true
   },
   "outputs": [
    {
     "name": "stdout",
     "output_type": "stream",
     "text": [
      "+------------------------+-----+\n",
      "|Rapidez de viento (km/h)|count|\n",
      "+------------------------+-----+\n",
      "|                    21.4|    4|\n",
      "|                    25.6|    3|\n",
      "|                    17.5|    3|\n",
      "|                    24.2|    3|\n",
      "|                    15.8|    3|\n",
      "|                    19.9|    3|\n",
      "|                    21.2|    3|\n",
      "|                    26.5|    2|\n",
      "|                    16.6|    2|\n",
      "|                    16.4|    2|\n",
      "|                    25.1|    2|\n",
      "|                    26.7|    2|\n",
      "|                    26.3|    2|\n",
      "|                    14.8|    2|\n",
      "|                    18.5|    2|\n",
      "|                      26|    2|\n",
      "|                    17.7|    2|\n",
      "|                      15|    2|\n",
      "|                    14.4|    2|\n",
      "|                    16.1|    2|\n",
      "+------------------------+-----+\n",
      "only showing top 20 rows\n",
      "\n"
     ]
    }
   ],
   "source": [
    "#filtamos los datos que esten entre las fecha del 15/10/22 y el 15/11/2022\n",
    "#para despues agrupar los datos de la columna Rapidez de viento (km/h)\n",
    "#despues se muestran los datos repetidos con la cantidad de repeticiones\n",
    "Data1 = temp_CuatroC.filter((df_CuatroC['Fecha Local'] >= '15/10/2022')&(df_CuatroC['Fecha Local']<='15/11/2022'))\n",
    "Data1.groupby(temp_CuatroC['Rapidez de viento (km/h)']).count().filter(\"`count` > 1\").sort(col(\"count\").desc()).show()"
   ]
  },
  {
   "cell_type": "code",
   "execution_count": 83,
   "id": "6e919f8e",
   "metadata": {
    "collapsed": true
   },
   "outputs": [
    {
     "name": "stdout",
     "output_type": "stream",
     "text": [
      "+------------------------+\n",
      "|Rapidez de ráfaga (km/h)|\n",
      "+------------------------+\n",
      "|                    21.4|\n",
      "|                    26.5|\n",
      "|                    33.9|\n",
      "|                    34.6|\n",
      "|                    39.2|\n",
      "|                      42|\n",
      "|                    40.4|\n",
      "|                    40.4|\n",
      "|                    42.1|\n",
      "|                    40.8|\n",
      "|                    38.4|\n",
      "|                    39.6|\n",
      "|                    39.6|\n",
      "|                    33.9|\n",
      "|                      29|\n",
      "|                    37.2|\n",
      "|                      37|\n",
      "|                    38.7|\n",
      "|                    36.3|\n",
      "|                    38.2|\n",
      "+------------------------+\n",
      "only showing top 20 rows\n",
      "\n"
     ]
    }
   ],
   "source": [
    "#Filtramos los datos de la columna 'Rapidez de ráfaga (km/h)',\n",
    "#pero solo se mostraran los de la fecha 15/09/2022\n",
    "#utilizamos la funcion \"contains\" que comparara los string que tengan la fecha '15/09/2022'\n",
    "Data2 = temp_CuatroC.select('Rapidez de ráfaga (km/h)')\n",
    "Data2.filter(temp_CuatroC['Fecha Local'].contains(\"15/09/2022\")).show()"
   ]
  },
  {
   "cell_type": "code",
   "execution_count": 85,
   "id": "1f98a553",
   "metadata": {
    "collapsed": true
   },
   "outputs": [
    {
     "name": "stdout",
     "output_type": "stream",
     "text": [
      "+-----------------------------+\n",
      "|Dirección del Viento (grados)|\n",
      "+-----------------------------+\n",
      "|                          296|\n",
      "|                          125|\n",
      "|                          124|\n",
      "|                            7|\n",
      "|                           51|\n",
      "|                          307|\n",
      "|                          205|\n",
      "|                          334|\n",
      "|                          169|\n",
      "|                          272|\n",
      "|                          234|\n",
      "|                           15|\n",
      "|                          232|\n",
      "|                           54|\n",
      "|                          282|\n",
      "|                          155|\n",
      "|                          132|\n",
      "|                          317|\n",
      "|                          154|\n",
      "|                          200|\n",
      "+-----------------------------+\n",
      "only showing top 20 rows\n",
      "\n"
     ]
    }
   ],
   "source": [
    "#Elimminamos datos duplicados de una columna utulizando la función distinct\n",
    "#Columna con datos eliminados 'Dirección del Viento (grados)'\n",
    "temp_CuatroC.select('Dirección del Viento (grados)').distinct().show()"
   ]
  },
  {
   "cell_type": "markdown",
   "id": "de3c2efe",
   "metadata": {},
   "source": [
    "## Dataset \"Estacion_MONCLOVA_ESIME__90_dias\""
   ]
  },
  {
   "cell_type": "code",
   "execution_count": 99,
   "id": "92e78ee0",
   "metadata": {},
   "outputs": [],
   "source": [
    "#Cargamos nuestro Dataset a trabajar con las especificaciones\n",
    "#necesarias para la correcta lectura\n",
    "df_Moncl = spark.read.format(\"csv\")\\\n",
    ".option(\"inferSchema\", False)\\\n",
    ".option(\"header\",True)\\\n",
    ".option(\"sep\", \",\")\\\n",
    ".load(arch_Moncl)"
   ]
  },
  {
   "cell_type": "code",
   "execution_count": 100,
   "id": "89a4a707",
   "metadata": {
    "collapsed": true
   },
   "outputs": [
    {
     "name": "stdout",
     "output_type": "stream",
     "text": [
      "+----------------+----------------+-------------------------+------------------+--------------------+-------------------------+----------------------+-----------------------------+------------------------+----------------------------+------------------------+\n",
      "|     Fecha Local|       Fecha UTC|Temperatura del Aire (°C)|Precipitación (mm)|Humedad relativa (%)|Presión Atmosférica (hpa)|Radiación Solar (W/m²)|Dirección del Viento (grados)|Rapidez de viento (km/h)|Dirección de ráfaga (grados)|Rapidez de ráfaga (km/h)|\n",
      "+----------------+----------------+-------------------------+------------------+--------------------+-------------------------+----------------------+-----------------------------+------------------------+----------------------------+------------------------+\n",
      "|31/08/2022 20:30|01/09/2022 01:30|                     23.4|              null|                  94|                     null|                     0|                         null|                    null|                        null|                    null|\n",
      "|31/08/2022 20:20|01/09/2022 01:20|                     23.3|              null|                  93|                     null|                     0|                         null|                    null|                        null|                    null|\n",
      "|31/08/2022 20:10|01/09/2022 01:10|                     23.5|              null|                  92|                     null|                     0|                         null|                    null|                        null|                    null|\n",
      "|31/08/2022 20:00|01/09/2022 01:00|                     24.2|              null|                  90|                     null|                     1|                         null|                    null|                        null|                    null|\n",
      "|31/08/2022 19:50|01/09/2022 00:50|                     25.4|              3.05|                  83|                      942|                    17|                         null|                    null|                         308|                   22.32|\n",
      "|31/08/2022 19:40|01/09/2022 00:40|                     26.2|              null|                  77|                     null|                    17|                         null|                    null|                        null|                    null|\n",
      "|31/08/2022 19:30|01/09/2022 00:30|                     27.1|              null|                  74|                     null|                    21|                         null|                    null|                        null|                    null|\n",
      "|31/08/2022 19:20|01/09/2022 00:20|                     28.1|              null|                  66|                     null|                    75|                         null|                    null|                        null|                    null|\n",
      "|31/08/2022 19:10|01/09/2022 00:10|                     28.5|              null|                  62|                     null|                    54|                         null|                    null|                        null|                    null|\n",
      "|31/08/2022 19:00|01/09/2022 00:00|                     28.8|              null|                  60|                     null|                    72|                         null|                    null|                        null|                    null|\n",
      "|31/08/2022 18:50|31/08/2022 23:50|                       29|                 0|                  58|                    942.2|                   106|                         null|                    null|                         321|                   18.36|\n",
      "|31/08/2022 18:40|31/08/2022 23:40|                     28.8|              null|                  60|                     null|                   149|                         null|                    null|                        null|                    null|\n",
      "|31/08/2022 18:30|31/08/2022 23:30|                     29.2|              null|                  59|                     null|                   265|                         null|                    null|                        null|                    null|\n",
      "|31/08/2022 18:20|31/08/2022 23:20|                     29.6|              null|                  57|                     null|                   208|                         null|                    null|                        null|                    null|\n",
      "|31/08/2022 18:10|31/08/2022 23:10|                     29.7|              null|                  57|                     null|                   298|                         null|                    null|                        null|                    null|\n",
      "|31/08/2022 18:00|31/08/2022 23:00|                     29.2|              null|                  59|                     null|                   467|                         null|                    null|                        null|                    null|\n",
      "|31/08/2022 17:50|31/08/2022 22:50|                     28.6|                 0|                  60|                    942.4|                   319|                         null|                    null|                         341|                   18.72|\n",
      "|31/08/2022 17:40|31/08/2022 22:40|                     28.3|              null|                  61|                     null|                   284|                         null|                    null|                        null|                    null|\n",
      "|31/08/2022 17:30|31/08/2022 22:30|                       28|              null|                  63|                     null|                   194|                         null|                    null|                        null|                    null|\n",
      "|31/08/2022 17:20|31/08/2022 22:20|                     27.9|              null|                  62|                     null|                   116|                         null|                    null|                        null|                    null|\n",
      "+----------------+----------------+-------------------------+------------------+--------------------+-------------------------+----------------------+-----------------------------+------------------------+----------------------------+------------------------+\n",
      "only showing top 20 rows\n",
      "\n"
     ]
    }
   ],
   "source": [
    "#Mostramos los datos cargados\n",
    "df_Moncl.show()"
   ]
  },
  {
   "cell_type": "code",
   "execution_count": 101,
   "id": "ed390cc9",
   "metadata": {},
   "outputs": [
    {
     "data": {
      "text/plain": [
       "487"
      ]
     },
     "execution_count": 101,
     "metadata": {},
     "output_type": "execute_result"
    }
   ],
   "source": [
    "#Verificamos la cantidad de datos que contiene el dataset\n",
    "df_Moncl.count() #Vemos la cantidad de "
   ]
  },
  {
   "cell_type": "code",
   "execution_count": 102,
   "id": "da6f60c1",
   "metadata": {},
   "outputs": [
    {
     "data": {
      "text/plain": [
       "['Fecha Local',\n",
       " 'Fecha UTC',\n",
       " 'Temperatura del Aire (°C)',\n",
       " 'Precipitación (mm)',\n",
       " 'Humedad relativa (%)',\n",
       " 'Presión Atmosférica (hpa)',\n",
       " 'Radiación Solar (W/m²)',\n",
       " 'Dirección del Viento (grados)',\n",
       " 'Rapidez de viento (km/h)',\n",
       " 'Dirección de ráfaga (grados)',\n",
       " 'Rapidez de ráfaga (km/h)']"
      ]
     },
     "execution_count": 102,
     "metadata": {},
     "output_type": "execute_result"
    }
   ],
   "source": [
    "#Verificamos las columnas que contiene\n",
    "df_Moncl.columns"
   ]
  },
  {
   "cell_type": "code",
   "execution_count": 103,
   "id": "587556c8",
   "metadata": {},
   "outputs": [],
   "source": [
    "#Creamos un subconjunto que filtrar las 4 columnas seleccionadas para trabajar \n",
    "col_Moncl = ['Fecha Local', 'Temperatura del Aire (°C)', 'Precipitación (mm)',\n",
    "       'Humedad relativa (%)']"
   ]
  },
  {
   "cell_type": "code",
   "execution_count": 104,
   "id": "ff95a2ee",
   "metadata": {},
   "outputs": [],
   "source": [
    "subconjunto = df_Moncl.select(*col_Moncl)"
   ]
  },
  {
   "cell_type": "code",
   "execution_count": 105,
   "id": "a28beb8d",
   "metadata": {
    "collapsed": true
   },
   "outputs": [
    {
     "name": "stdout",
     "output_type": "stream",
     "text": [
      "+----------------+-------------------------+------------------+--------------------+\n",
      "|     Fecha Local|Temperatura del Aire (°C)|Precipitación (mm)|Humedad relativa (%)|\n",
      "+----------------+-------------------------+------------------+--------------------+\n",
      "|31/08/2022 20:30|                     23.4|              null|                  94|\n",
      "|31/08/2022 20:20|                     23.3|              null|                  93|\n",
      "|31/08/2022 20:10|                     23.5|              null|                  92|\n",
      "|31/08/2022 20:00|                     24.2|              null|                  90|\n",
      "|31/08/2022 19:50|                     25.4|              3.05|                  83|\n",
      "|31/08/2022 19:40|                     26.2|              null|                  77|\n",
      "|31/08/2022 19:30|                     27.1|              null|                  74|\n",
      "|31/08/2022 19:20|                     28.1|              null|                  66|\n",
      "|31/08/2022 19:10|                     28.5|              null|                  62|\n",
      "|31/08/2022 19:00|                     28.8|              null|                  60|\n",
      "|31/08/2022 18:50|                       29|                 0|                  58|\n",
      "|31/08/2022 18:40|                     28.8|              null|                  60|\n",
      "|31/08/2022 18:30|                     29.2|              null|                  59|\n",
      "|31/08/2022 18:20|                     29.6|              null|                  57|\n",
      "|31/08/2022 18:10|                     29.7|              null|                  57|\n",
      "|31/08/2022 18:00|                     29.2|              null|                  59|\n",
      "|31/08/2022 17:50|                     28.6|                 0|                  60|\n",
      "|31/08/2022 17:40|                     28.3|              null|                  61|\n",
      "|31/08/2022 17:30|                       28|              null|                  63|\n",
      "|31/08/2022 17:20|                     27.9|              null|                  62|\n",
      "+----------------+-------------------------+------------------+--------------------+\n",
      "only showing top 20 rows\n",
      "\n"
     ]
    }
   ],
   "source": [
    "#Mostramos el subconjunto creado para verificar que las columnas y datos \n",
    "#que se han querido filtrar son las correctas\n",
    "subconjunto.show()"
   ]
  },
  {
   "cell_type": "code",
   "execution_count": 106,
   "id": "e7157495",
   "metadata": {
    "scrolled": true
   },
   "outputs": [
    {
     "data": {
      "text/plain": [
       "487"
      ]
     },
     "execution_count": 106,
     "metadata": {},
     "output_type": "execute_result"
    }
   ],
   "source": [
    "#Mostramos la cantidad total en el subconjunto segun la Fecha Local\n",
    "subconjunto.filter((df_Moncl['Fecha Local']!='')&(df_Moncl['Fecha Local'].isNotNull())&(~isnan(df_Moncl['Fecha Local']))).count()"
   ]
  },
  {
   "cell_type": "code",
   "execution_count": 109,
   "id": "d8e53eee",
   "metadata": {},
   "outputs": [
    {
     "data": {
      "text/plain": [
       "406"
      ]
     },
     "execution_count": 109,
     "metadata": {},
     "output_type": "execute_result"
    }
   ],
   "source": [
    "#Mostramos la cantidad de datos vacios en el subconjunto segun Precipitacion\n",
    "subconjunto.filter((df_Moncl['Precipitación (mm)']=='')|(df_Moncl['Precipitación (mm)'].isNull())|(isnan(df_Moncl['Precipitación (mm)']))).count()"
   ]
  },
  {
   "cell_type": "code",
   "execution_count": 110,
   "id": "b297d0f6",
   "metadata": {},
   "outputs": [],
   "source": [
    "#Para empezar a manipular los datos del dataset,\n",
    "#utilizaremos un subconjunto temporal \n",
    "#para evitar modificaciones en el dataset original,\n",
    "#lo primero a realizar en el subconjunto temporal\n",
    "#es eliminar los datos nulos o vacios\n",
    "temp_Moncl = subconjunto.filter((df_Moncl['Precipitación (mm)']!='')&(df_Moncl['Precipitación (mm)'].isNotNull())&(~isnan(df_Moncl['Precipitación (mm)'])))"
   ]
  },
  {
   "cell_type": "code",
   "execution_count": 111,
   "id": "b4732aa8",
   "metadata": {
    "collapsed": true
   },
   "outputs": [
    {
     "name": "stdout",
     "output_type": "stream",
     "text": [
      "+----------------+-------------------------+------------------+--------------------+\n",
      "|     Fecha Local|Temperatura del Aire (°C)|Precipitación (mm)|Humedad relativa (%)|\n",
      "+----------------+-------------------------+------------------+--------------------+\n",
      "|31/08/2022 19:50|                     25.4|              3.05|                  83|\n",
      "|31/08/2022 18:50|                       29|                 0|                  58|\n",
      "|31/08/2022 17:50|                     28.6|                 0|                  60|\n",
      "|31/08/2022 16:50|                     28.1|                 0|                  64|\n",
      "|31/08/2022 15:50|                       29|                 0|                  59|\n",
      "|31/08/2022 14:50|                     27.8|                 0|                  62|\n",
      "|31/08/2022 13:50|                     25.7|                 0|                  74|\n",
      "|31/08/2022 12:50|                     24.9|                 0|                  78|\n",
      "|31/08/2022 11:50|                     24.1|                 0|                  83|\n",
      "|31/08/2022 10:50|                     23.8|                 0|                  85|\n",
      "|31/08/2022 09:50|                     22.6|                 0|                  99|\n",
      "|31/08/2022 08:50|                     22.1|                 0|                 100|\n",
      "|31/08/2022 07:50|                     22.1|                 0|                 100|\n",
      "|31/08/2022 06:50|                     22.2|                 0|                 100|\n",
      "|31/08/2022 05:50|                     22.2|              0.51|                  99|\n",
      "|31/08/2022 04:50|                     22.3|              0.51|                  98|\n",
      "|31/08/2022 03:50|                     22.3|              1.02|                  98|\n",
      "|31/08/2022 02:50|                     22.5|                 0|                  97|\n",
      "|31/08/2022 01:50|                     22.4|                 0|                  97|\n",
      "|31/08/2022 00:50|                     22.4|                 0|                  97|\n",
      "+----------------+-------------------------+------------------+--------------------+\n",
      "only showing top 20 rows\n",
      "\n"
     ]
    }
   ],
   "source": [
    "temp_Moncl.show()"
   ]
  },
  {
   "cell_type": "code",
   "execution_count": 112,
   "id": "3d42242f",
   "metadata": {
    "collapsed": true
   },
   "outputs": [
    {
     "name": "stdout",
     "output_type": "stream",
     "text": [
      "+-------------------------+-----+\n",
      "|Temperatura del Aire (°C)|count|\n",
      "+-------------------------+-----+\n",
      "|                     26.7|    1|\n",
      "|                     22.4|    3|\n",
      "|                       29|    3|\n",
      "|                     22.5|    1|\n",
      "|                       30|    2|\n",
      "|                     23.8|    2|\n",
      "|                     24.5|    3|\n",
      "|                     22.8|    1|\n",
      "|                     26.3|    1|\n",
      "|                     24.4|    3|\n",
      "|                     29.2|    1|\n",
      "|                     25.3|    1|\n",
      "|                     25.1|    1|\n",
      "|                       27|    1|\n",
      "|                     28.8|    1|\n",
      "|                     29.9|    1|\n",
      "|                     25.8|    1|\n",
      "|                     24.1|    1|\n",
      "|                     23.6|    1|\n",
      "|                       23|    2|\n",
      "+-------------------------+-----+\n",
      "only showing top 20 rows\n",
      "\n"
     ]
    }
   ],
   "source": [
    "#Calcular las frecuencias por columna\n",
    "#en este ejercicio se utilizo la columna 'Temperatura del Aire (°C)'\n",
    "temp_Moncl.groupBy(subconjunto['Temperatura del Aire (°C)']).count().show()"
   ]
  },
  {
   "cell_type": "code",
   "execution_count": 114,
   "id": "bc435fca",
   "metadata": {
    "collapsed": true
   },
   "outputs": [
    {
     "name": "stdout",
     "output_type": "stream",
     "text": [
      "+------------------+-----+\n",
      "|Precipitación (mm)|count|\n",
      "+------------------+-----+\n",
      "|                 0|   72|\n",
      "|              0.51|    3|\n",
      "|              1.02|    2|\n",
      "|              3.05|    1|\n",
      "|              2.29|    1|\n",
      "|              1.52|    1|\n",
      "|              4.32|    1|\n",
      "+------------------+-----+\n",
      "\n"
     ]
    }
   ],
   "source": [
    "#Numero de repeticiones que aparece \n",
    "#un dato en la columna 'Precipitación (mm)'\n",
    "#Se ordenaron de manera descendente\n",
    "temp_Moncl.groupBy(temp_Moncl['Precipitación (mm)']).count().sort(desc('count')).show()"
   ]
  },
  {
   "cell_type": "code",
   "execution_count": 116,
   "id": "523f6626",
   "metadata": {
    "collapsed": true
   },
   "outputs": [
    {
     "name": "stdout",
     "output_type": "stream",
     "text": [
      "+--------------------+-----+\n",
      "|Humedad relativa (%)|count|\n",
      "+--------------------+-----+\n",
      "|                  80|    5|\n",
      "|                  60|    3|\n",
      "|                  74|    3|\n",
      "|                  78|    3|\n",
      "|                  73|    3|\n",
      "|                  51|    2|\n",
      "|                  75|    2|\n",
      "|                  42|    2|\n",
      "|                  46|    2|\n",
      "|                  58|    2|\n",
      "|                  63|    2|\n",
      "|                  72|    2|\n",
      "|                  49|    2|\n",
      "|                  66|    2|\n",
      "|                  45|    2|\n",
      "+--------------------+-----+\n",
      "\n"
     ]
    }
   ],
   "source": [
    "#filtamos los datos que esten entre las fecha del 22/08/22 y el 25/08/2022\n",
    "#para despues agrupar los datos de la 'Humedad relativa (%)'\n",
    "#despues se muestran los datos repetidos con la cantidad de repeticiones\n",
    "Data1 = temp_Moncl.filter((df_Moncl['Fecha Local'] >= '22/08/2022')&(df_Moncl['Fecha Local']<='25/08/2022'))\n",
    "Data1.groupby(temp_Moncl['Humedad relativa (%)']).count().filter(\"`count` > 1\").sort(col(\"count\").desc()).show()"
   ]
  },
  {
   "cell_type": "code",
   "execution_count": 120,
   "id": "5db8e383",
   "metadata": {
    "collapsed": true
   },
   "outputs": [
    {
     "name": "stdout",
     "output_type": "stream",
     "text": [
      "+-------------------------+\n",
      "|Temperatura del Aire (°C)|\n",
      "+-------------------------+\n",
      "|                     22.3|\n",
      "|                     22.3|\n",
      "|                     22.8|\n",
      "|                     23.1|\n",
      "|                       23|\n",
      "|                     22.7|\n",
      "|                     22.4|\n",
      "|                     22.3|\n",
      "|                     22.3|\n",
      "|                       23|\n",
      "|                     23.8|\n",
      "|                     23.6|\n",
      "|                     25.4|\n",
      "+-------------------------+\n",
      "\n"
     ]
    }
   ],
   "source": [
    "#Filtramos los datos de la columna 'Temperatura del Aire (°C)',\n",
    "#pero solo se mostraran los de la fecha 30/08/2022\n",
    "#utilizamos la funcion \"contains\" que comparara los string que tengan la fecha '15/09/2022'\n",
    "Data2 = temp_Moncl.select('Temperatura del Aire (°C)')\n",
    "Data2.filter(temp_Moncl['Fecha Local'].contains(\"30/08/2022\")).show()"
   ]
  },
  {
   "cell_type": "code",
   "execution_count": 121,
   "id": "42e8dd8e",
   "metadata": {},
   "outputs": [],
   "source": [
    "#Renombramos dos columnas con la funcion withColumnRenamed\n",
    "temp_Moncl = temp_Moncl.withColumnRenamed('Fecha Local','ID Fecha').withColumnRenamed('Temperatura del Aire (°C)', 'Temperatura Ambiente (°C)')"
   ]
  },
  {
   "cell_type": "code",
   "execution_count": 123,
   "id": "e4128e05",
   "metadata": {
    "collapsed": true
   },
   "outputs": [
    {
     "name": "stdout",
     "output_type": "stream",
     "text": [
      "+----------------+-------------------------+------------------+--------------------+\n",
      "|        ID Fecha|Temperatura Ambiente (°C)|Precipitación (mm)|Humedad relativa (%)|\n",
      "+----------------+-------------------------+------------------+--------------------+\n",
      "|31/08/2022 19:50|                     25.4|              3.05|                  83|\n",
      "|31/08/2022 18:50|                       29|                 0|                  58|\n",
      "|31/08/2022 17:50|                     28.6|                 0|                  60|\n",
      "|31/08/2022 16:50|                     28.1|                 0|                  64|\n",
      "|31/08/2022 15:50|                       29|                 0|                  59|\n",
      "|31/08/2022 14:50|                     27.8|                 0|                  62|\n",
      "|31/08/2022 13:50|                     25.7|                 0|                  74|\n",
      "|31/08/2022 12:50|                     24.9|                 0|                  78|\n",
      "|31/08/2022 11:50|                     24.1|                 0|                  83|\n",
      "|31/08/2022 10:50|                     23.8|                 0|                  85|\n",
      "|31/08/2022 09:50|                     22.6|                 0|                  99|\n",
      "|31/08/2022 08:50|                     22.1|                 0|                 100|\n",
      "|31/08/2022 07:50|                     22.1|                 0|                 100|\n",
      "|31/08/2022 06:50|                     22.2|                 0|                 100|\n",
      "|31/08/2022 05:50|                     22.2|              0.51|                  99|\n",
      "|31/08/2022 04:50|                     22.3|              0.51|                  98|\n",
      "|31/08/2022 03:50|                     22.3|              1.02|                  98|\n",
      "|31/08/2022 02:50|                     22.5|                 0|                  97|\n",
      "|31/08/2022 01:50|                     22.4|                 0|                  97|\n",
      "|31/08/2022 00:50|                     22.4|                 0|                  97|\n",
      "+----------------+-------------------------+------------------+--------------------+\n",
      "only showing top 20 rows\n",
      "\n"
     ]
    }
   ],
   "source": [
    "temp_Moncl.show()"
   ]
  },
  {
   "cell_type": "markdown",
   "id": "df45f913",
   "metadata": {},
   "source": [
    "### Dataset \"Estacion_MORELOSMUZQUIZ__90_dias\""
   ]
  },
  {
   "cell_type": "code",
   "execution_count": 124,
   "id": "08d220ac",
   "metadata": {},
   "outputs": [],
   "source": [
    "#Cargamos nuestro Dataset a trabajar con las especificaciones\n",
    "#necesarias para la correcta lectura\n",
    "df_Morel = spark.read.format(\"csv\")\\\n",
    ".option(\"inferSchema\", False)\\\n",
    ".option(\"header\",True)\\\n",
    ".option(\"sep\", \",\")\\\n",
    ".load(arch_Morel)"
   ]
  },
  {
   "cell_type": "code",
   "execution_count": 125,
   "id": "9962d545",
   "metadata": {
    "collapsed": true
   },
   "outputs": [
    {
     "name": "stdout",
     "output_type": "stream",
     "text": [
      "+----------------+----------------+-----------------------------+----------------------------+------------------------+------------------------+-------------------------+--------------------+-------------------------+------------------+----------------------+\n",
      "|     Fecha Local|       Fecha UTC|Dirección del Viento (grados)|Dirección de ráfaga (grados)|Rapidez de viento (km/h)|Rapidez de ráfaga (km/h)|Temperatura del Aire (°C)|Humedad relativa (%)|Presión Atmosférica (hpa)|Precipitación (mm)|Radiación Solar (W/m²)|\n",
      "+----------------+----------------+-----------------------------+----------------------------+------------------------+------------------------+-------------------------+--------------------+-------------------------+------------------+----------------------+\n",
      "|15/11/2022 09:10|15/11/2022 15:10|                           75|                          87|                     6.1|                     9.7|                      9.9|                  49|                    969.2|                 0|                   292|\n",
      "|15/11/2022 09:00|15/11/2022 15:00|                           76|                          84|                     4.9|                     8.1|                      9.7|                  50|                      969|                 0|                   204|\n",
      "|15/11/2022 08:50|15/11/2022 14:50|                           84|                          96|                     4.4|                     8.1|                     10.1|                  49|                    968.9|                 0|                   342|\n",
      "|15/11/2022 08:40|15/11/2022 14:40|                           76|                          86|                     2.6|                     5.3|                      9.4|                  53|                    968.7|                 0|                   252|\n",
      "|15/11/2022 08:30|15/11/2022 14:30|                           71|                         102|                     1.1|                     2.3|                      8.9|                  59|                    968.7|                 0|                   120|\n",
      "|15/11/2022 08:20|15/11/2022 14:20|                           77|                          45|                     1.7|                     2.5|                      8.4|                  60|                    968.5|                 0|                    85|\n",
      "|15/11/2022 08:10|15/11/2022 14:10|                          112|                         266|                     1.2|                     2.9|                      8.2|                  62|                    968.5|                 0|                    84|\n",
      "|15/11/2022 08:00|15/11/2022 14:00|                          152|                         163|                       1|                     1.7|                      8.1|                  66|                    968.4|                 0|                   117|\n",
      "|15/11/2022 07:50|15/11/2022 13:50|                          152|                         166|                     1.7|                     2.8|                      7.2|                  73|                    968.2|                 0|                    90|\n",
      "|15/11/2022 07:40|15/11/2022 13:40|                          147|                         160|                       1|                     1.6|                      6.6|                  73|                    968.1|                 0|                    72|\n",
      "|15/11/2022 07:30|15/11/2022 13:30|                          147|                         171|                       1|                     1.8|                      5.4|                  77|                      968|                 0|                    45|\n",
      "|15/11/2022 07:20|15/11/2022 13:20|                          149|                         151|                     1.3|                     2.1|                        5|                  78|                    967.9|                 0|                    18|\n",
      "|15/11/2022 07:10|15/11/2022 13:10|                          142|                         145|                     2.5|                     3.9|                        5|                  78|                    967.7|                 0|                     6|\n",
      "|15/11/2022 07:00|15/11/2022 13:00|                          164|                         169|                     2.7|                     3.2|                      4.9|                  76|                    967.5|                 0|                     0|\n",
      "|15/11/2022 06:50|15/11/2022 12:50|                          175|                         185|                     3.4|                     5.3|                      4.9|                  76|                    967.5|                 0|                     0|\n",
      "|15/11/2022 06:40|15/11/2022 12:40|                          177|                         185|                       4|                     5.5|                        5|                  74|                    967.3|                 0|                     0|\n",
      "|15/11/2022 06:30|15/11/2022 12:30|                          177|                         183|                     3.3|                     3.9|                        5|                  73|                      967|                 0|                     0|\n",
      "|15/11/2022 06:20|15/11/2022 12:20|                          175|                         179|                     3.1|                     3.7|                      5.1|                  72|                      967|                 0|                     0|\n",
      "|15/11/2022 06:10|15/11/2022 12:10|                          142|                         142|                     2.9|                     3.8|                      5.5|                  70|                    966.8|                 0|                     0|\n",
      "|15/11/2022 06:00|15/11/2022 12:00|                          143|                         145|                     2.8|                     4.7|                      5.6|                  68|                    966.7|                 0|                     0|\n",
      "+----------------+----------------+-----------------------------+----------------------------+------------------------+------------------------+-------------------------+--------------------+-------------------------+------------------+----------------------+\n",
      "only showing top 20 rows\n",
      "\n"
     ]
    }
   ],
   "source": [
    "#Mostramos los datos cargados\n",
    "df_Morel.show()"
   ]
  },
  {
   "cell_type": "code",
   "execution_count": 138,
   "id": "e663411a",
   "metadata": {
    "scrolled": true
   },
   "outputs": [
    {
     "data": {
      "text/plain": [
       "12706"
      ]
     },
     "execution_count": 138,
     "metadata": {},
     "output_type": "execute_result"
    }
   ],
   "source": [
    "#Verificamos la cantidad de datos que contiene el dataset\n",
    "df_Morel.count()"
   ]
  },
  {
   "cell_type": "code",
   "execution_count": 139,
   "id": "11f70695",
   "metadata": {},
   "outputs": [
    {
     "data": {
      "text/plain": [
       "['Fecha Local',\n",
       " 'Fecha UTC',\n",
       " 'Dirección del Viento (grados)',\n",
       " 'Dirección de ráfaga (grados)',\n",
       " 'Rapidez de viento (km/h)',\n",
       " 'Rapidez de ráfaga (km/h)',\n",
       " 'Temperatura del Aire (°C)',\n",
       " 'Humedad relativa (%)',\n",
       " 'Presión Atmosférica (hpa)',\n",
       " 'Precipitación (mm)',\n",
       " 'Radiación Solar (W/m²)']"
      ]
     },
     "execution_count": 139,
     "metadata": {},
     "output_type": "execute_result"
    }
   ],
   "source": [
    "#Verificamos las columnas que contiene\n",
    "df_Morel.columns"
   ]
  },
  {
   "cell_type": "code",
   "execution_count": 140,
   "id": "441c3666",
   "metadata": {},
   "outputs": [],
   "source": [
    "#Creamos un subconjunto que filtrar las 3 columnas seleccionadas para trabajar \n",
    "col_Morel = ['Fecha Local', 'Radiación Solar (W/m²)', 'Presión Atmosférica (hpa)']"
   ]
  },
  {
   "cell_type": "code",
   "execution_count": 141,
   "id": "bdbf8257",
   "metadata": {},
   "outputs": [],
   "source": [
    "subconjunto = df_Morel.select(*col_Morel)"
   ]
  },
  {
   "cell_type": "code",
   "execution_count": 142,
   "id": "c81fdd41",
   "metadata": {
    "collapsed": true
   },
   "outputs": [
    {
     "name": "stdout",
     "output_type": "stream",
     "text": [
      "+----------------+----------------------+-------------------------+\n",
      "|     Fecha Local|Radiación Solar (W/m²)|Presión Atmosférica (hpa)|\n",
      "+----------------+----------------------+-------------------------+\n",
      "|15/11/2022 09:10|                   292|                    969.2|\n",
      "|15/11/2022 09:00|                   204|                      969|\n",
      "|15/11/2022 08:50|                   342|                    968.9|\n",
      "|15/11/2022 08:40|                   252|                    968.7|\n",
      "|15/11/2022 08:30|                   120|                    968.7|\n",
      "|15/11/2022 08:20|                    85|                    968.5|\n",
      "|15/11/2022 08:10|                    84|                    968.5|\n",
      "|15/11/2022 08:00|                   117|                    968.4|\n",
      "|15/11/2022 07:50|                    90|                    968.2|\n",
      "|15/11/2022 07:40|                    72|                    968.1|\n",
      "|15/11/2022 07:30|                    45|                      968|\n",
      "|15/11/2022 07:20|                    18|                    967.9|\n",
      "|15/11/2022 07:10|                     6|                    967.7|\n",
      "|15/11/2022 07:00|                     0|                    967.5|\n",
      "|15/11/2022 06:50|                     0|                    967.5|\n",
      "|15/11/2022 06:40|                     0|                    967.3|\n",
      "|15/11/2022 06:30|                     0|                      967|\n",
      "|15/11/2022 06:20|                     0|                      967|\n",
      "|15/11/2022 06:10|                     0|                    966.8|\n",
      "|15/11/2022 06:00|                     0|                    966.7|\n",
      "+----------------+----------------------+-------------------------+\n",
      "only showing top 20 rows\n",
      "\n"
     ]
    }
   ],
   "source": [
    "subconjunto.show()"
   ]
  },
  {
   "cell_type": "code",
   "execution_count": 143,
   "id": "a1809bc2",
   "metadata": {
    "scrolled": true
   },
   "outputs": [
    {
     "data": {
      "text/plain": [
       "12706"
      ]
     },
     "execution_count": 143,
     "metadata": {},
     "output_type": "execute_result"
    }
   ],
   "source": [
    "#Mostramos la cantidad total en el subconjunto segun la Radiación Solar (W/m²)\n",
    "subconjunto.filter((df_Morel['Radiación Solar (W/m²)']!='')&(df_Morel['Radiación Solar (W/m²)'].isNotNull())&(~isnan(df_Morel['Radiación Solar (W/m²)']))).count()"
   ]
  },
  {
   "cell_type": "code",
   "execution_count": 144,
   "id": "ab502b98",
   "metadata": {},
   "outputs": [
    {
     "data": {
      "text/plain": [
       "2"
      ]
     },
     "execution_count": 144,
     "metadata": {},
     "output_type": "execute_result"
    }
   ],
   "source": [
    "#Mostramos la cantidad de datos vacios en el subconjunto segun la Presión Atmosférica (hpa)\n",
    "subconjunto.filter((df_Morel['Presión Atmosférica (hpa)']=='')|(df_Morel['Presión Atmosférica (hpa)'].isNull())|(isnan(df_Morel['Presión Atmosférica (hpa)']))).count()"
   ]
  },
  {
   "cell_type": "code",
   "execution_count": 146,
   "id": "e9dbfec8",
   "metadata": {},
   "outputs": [],
   "source": [
    "#Para empezar a manipular los datos del dataset,\n",
    "#utilizaremos un subconjunto temporal \n",
    "#para evitar modificaciones en el dataset original,\n",
    "#lo primero a realizar en el subconjunto temporal\n",
    "#es eliminar los datos nulos o vacios\n",
    "temp_Morel = subconjunto.filter((df_Morel['Presión Atmosférica (hpa)']!='')&(df_Morel['Presión Atmosférica (hpa)'].isNotNull())&(~isnan(df_Morel['Presión Atmosférica (hpa)'])))"
   ]
  },
  {
   "cell_type": "code",
   "execution_count": 148,
   "id": "d1be8060",
   "metadata": {
    "collapsed": true
   },
   "outputs": [
    {
     "name": "stdout",
     "output_type": "stream",
     "text": [
      "+----------------+----------------------+-------------------------+\n",
      "|     Fecha Local|Radiación Solar (W/m²)|Presión Atmosférica (hpa)|\n",
      "+----------------+----------------------+-------------------------+\n",
      "|15/11/2022 09:10|                   292|                    969.2|\n",
      "|15/11/2022 09:00|                   204|                      969|\n",
      "|15/11/2022 08:50|                   342|                    968.9|\n",
      "|15/11/2022 08:40|                   252|                    968.7|\n",
      "|15/11/2022 08:30|                   120|                    968.7|\n",
      "|15/11/2022 08:20|                    85|                    968.5|\n",
      "|15/11/2022 08:10|                    84|                    968.5|\n",
      "|15/11/2022 08:00|                   117|                    968.4|\n",
      "|15/11/2022 07:50|                    90|                    968.2|\n",
      "|15/11/2022 07:40|                    72|                    968.1|\n",
      "|15/11/2022 07:30|                    45|                      968|\n",
      "|15/11/2022 07:20|                    18|                    967.9|\n",
      "|15/11/2022 07:10|                     6|                    967.7|\n",
      "|15/11/2022 07:00|                     0|                    967.5|\n",
      "|15/11/2022 06:50|                     0|                    967.5|\n",
      "|15/11/2022 06:40|                     0|                    967.3|\n",
      "|15/11/2022 06:30|                     0|                      967|\n",
      "|15/11/2022 06:20|                     0|                      967|\n",
      "|15/11/2022 06:10|                     0|                    966.8|\n",
      "|15/11/2022 06:00|                     0|                    966.7|\n",
      "+----------------+----------------------+-------------------------+\n",
      "only showing top 20 rows\n",
      "\n"
     ]
    }
   ],
   "source": [
    "temp_Morel.show()"
   ]
  },
  {
   "cell_type": "code",
   "execution_count": 150,
   "id": "6bf5be52",
   "metadata": {
    "collapsed": true
   },
   "outputs": [
    {
     "name": "stdout",
     "output_type": "stream",
     "text": [
      "+----------------------+-----+\n",
      "|Radiación Solar (W/m²)|count|\n",
      "+----------------------+-----+\n",
      "|                   691|    3|\n",
      "|                   296|    7|\n",
      "|                   675|    2|\n",
      "|                   829|    4|\n",
      "|                   467|    3|\n",
      "|                   125|    7|\n",
      "|                   800|    4|\n",
      "|                   451|    2|\n",
      "|                   853|    8|\n",
      "|                   944|    6|\n",
      "|                   666|    6|\n",
      "|                   870|    9|\n",
      "|                   919|    2|\n",
      "|                   926|    3|\n",
      "|                     7|   26|\n",
      "|                   447|    5|\n",
      "|                   591|    9|\n",
      "|                   124|   14|\n",
      "|                    51|    8|\n",
      "|                   613|    5|\n",
      "+----------------------+-----+\n",
      "only showing top 20 rows\n",
      "\n"
     ]
    }
   ],
   "source": [
    "#Calcular las frecuencias por columna\n",
    "#en este ejercicio se utilizo la columna 'Radiación Solar (W/m²)'\n",
    "temp_Morel.groupBy(subconjunto['Radiación Solar (W/m²)']).count().show()"
   ]
  },
  {
   "cell_type": "code",
   "execution_count": 152,
   "id": "93ef60ab",
   "metadata": {
    "collapsed": true
   },
   "outputs": [
    {
     "name": "stdout",
     "output_type": "stream",
     "text": [
      "+----------------------+-----+\n",
      "|Radiación Solar (W/m²)|count|\n",
      "+----------------------+-----+\n",
      "|                     0| 1755|\n",
      "|                     1|   17|\n",
      "|                     2|   14|\n",
      "|                     3|    9|\n",
      "|                    78|    8|\n",
      "|                    68|    8|\n",
      "|                     7|    8|\n",
      "|                    11|    7|\n",
      "|                   763|    7|\n",
      "|                     5|    7|\n",
      "|                   268|    6|\n",
      "|                   914|    6|\n",
      "|                   124|    6|\n",
      "|                   755|    6|\n",
      "|                    10|    6|\n",
      "|                    71|    6|\n",
      "|                   855|    6|\n",
      "|                    48|    6|\n",
      "|                   275|    6|\n",
      "|                    30|    6|\n",
      "+----------------------+-----+\n",
      "only showing top 20 rows\n",
      "\n"
     ]
    }
   ],
   "source": [
    "#filtamos los datos que esten entre las fecha del 30/08/22 y el 10/09/2022\n",
    "#para despues agrupar los datos de la 'Radiación Solar (W/m²)'\n",
    "#despues se muestran los datos repetidos con la cantidad de repeticiones\n",
    "Data1 = temp_Morel.filter((df_Morel['Fecha Local'] >= '07/09/2022')&(df_Morel['Fecha Local']<='15/09/2022'))\n",
    "Data1.groupby(temp_Morel['Radiación Solar (W/m²)']).count().filter(\"`count` > 1\").sort(col(\"count\").desc()).show()"
   ]
  },
  {
   "cell_type": "code",
   "execution_count": 156,
   "id": "6901ac42",
   "metadata": {
    "collapsed": true
   },
   "outputs": [
    {
     "name": "stdout",
     "output_type": "stream",
     "text": [
      "+-------------------------+\n",
      "|Presión Atmosférica (hpa)|\n",
      "+-------------------------+\n",
      "|                    959.7|\n",
      "|                    959.8|\n",
      "|                    959.9|\n",
      "|                    959.9|\n",
      "|                      960|\n",
      "|                      960|\n",
      "|                    959.8|\n",
      "|                    959.8|\n",
      "|                    959.9|\n",
      "|                    959.7|\n",
      "|                    959.7|\n",
      "|                    959.5|\n",
      "|                    959.4|\n",
      "|                    959.4|\n",
      "|                    959.3|\n",
      "|                    959.1|\n",
      "|                      959|\n",
      "|                    958.9|\n",
      "|                    958.8|\n",
      "|                    958.7|\n",
      "+-------------------------+\n",
      "only showing top 20 rows\n",
      "\n"
     ]
    }
   ],
   "source": [
    "#Filtramos los datos de la columna 'Presión Atmosférica (hpa)',\n",
    "#pero solo se mostraran los de la fecha 31/08/2022\n",
    "#utilizamos la funcion \"contains\" que comparara los string que tengan la fecha '15/09/2022'\n",
    "Data2 = temp_Morel.select('Presión Atmosférica (hpa)')\n",
    "Data2.filter(temp_Morel['Fecha Local'].contains(\"31/08/2022\")).show()"
   ]
  },
  {
   "cell_type": "markdown",
   "id": "660c408c",
   "metadata": {},
   "source": [
    "### Dataset \"Estacion_NUEVAROSITA__90_dias\"\n"
   ]
  },
  {
   "cell_type": "code",
   "execution_count": 157,
   "id": "5bd16971",
   "metadata": {},
   "outputs": [],
   "source": [
    "#Cargamos nuestro Dataset a trabajar con las especificaciones\n",
    "#necesarias para la correcta lectura\n",
    "df_NuevaR = spark.read.format(\"csv\")\\\n",
    ".option(\"inferSchema\", False)\\\n",
    ".option(\"header\",True)\\\n",
    ".option(\"sep\", \",\")\\\n",
    ".load(arch_NuevaR)"
   ]
  },
  {
   "cell_type": "code",
   "execution_count": 159,
   "id": "cf25822f",
   "metadata": {
    "collapsed": true
   },
   "outputs": [
    {
     "name": "stdout",
     "output_type": "stream",
     "text": [
      "+----------------+----------------+-----------------------------+----------------------------+------------------------+------------------------+-------------------------+--------------------+-------------------------+------------------+----------------------+\n",
      "|     Fecha Local|       Fecha UTC|Dirección del Viento (grados)|Dirección de ráfaga (grados)|Rapidez de viento (km/h)|Rapidez de ráfaga (km/h)|Temperatura del Aire (°C)|Humedad relativa (%)|Presión Atmosférica (hpa)|Precipitación (mm)|Radiación Solar (W/m²)|\n",
      "+----------------+----------------+-----------------------------+----------------------------+------------------------+------------------------+-------------------------+--------------------+-------------------------+------------------+----------------------+\n",
      "|15/11/2022 08:50|15/11/2022 14:50|                           62|                          17|                      41|                    81.4|                     10.4|                  40|                    983.8|                 0|                   286|\n",
      "|15/11/2022 08:40|15/11/2022 14:40|                          106|                          16|                    45.7|                    68.4|                       10|                  41|                    983.6|                 0|                   195|\n",
      "|15/11/2022 08:30|15/11/2022 14:30|                           52|                          15|                    37.4|                    76.7|                      9.9|                  42|                    983.6|                 0|                   209|\n",
      "|15/11/2022 08:20|15/11/2022 14:20|                           50|                          28|                    44.9|                    72.4|                       10|                  41|                    983.5|                 0|                   198|\n",
      "|15/11/2022 08:10|15/11/2022 14:10|                           99|                          22|                    28.3|                    71.6|                      9.7|                  42|                    983.4|                 0|                   216|\n",
      "|15/11/2022 08:00|15/11/2022 14:00|                           68|                          24|                      25|                    41.4|                      9.2|                  44|                    983.2|                 0|                   121|\n",
      "|15/11/2022 07:50|15/11/2022 13:50|                          103|                          19|                    22.9|                    38.5|                      8.6|                  47|                    983.1|                 0|                   144|\n",
      "|15/11/2022 07:40|15/11/2022 13:40|                          119|                          15|                    20.8|                    39.2|                      7.5|                  51|                    982.9|                 0|                    95|\n",
      "|15/11/2022 07:30|15/11/2022 13:30|                          200|                         337|                      20|                    36.7|                      5.8|                  58|                    982.7|                 0|                    53|\n",
      "|15/11/2022 07:20|15/11/2022 13:20|                          101|                         354|                    17.3|                    29.9|                      4.7|                  62|                    982.6|                 0|                    28|\n",
      "|15/11/2022 07:10|15/11/2022 13:10|                          269|                         357|                     8.5|                    24.8|                      4.2|                  65|                    982.6|                 0|                     9|\n",
      "|15/11/2022 07:00|15/11/2022 13:00|                          169|                         337|                      19|                      32|                      4.3|                  65|                    982.3|                 0|                     0|\n",
      "|15/11/2022 06:50|15/11/2022 12:50|                          228|                          11|                    11.9|                    23.8|                      4.5|                  63|                    982.2|                 0|                    -1|\n",
      "|15/11/2022 06:40|15/11/2022 12:40|                          245|                           7|                     9.1|                    26.6|                      4.6|                  63|                    982.1|                 0|                    -1|\n",
      "|15/11/2022 06:30|15/11/2022 12:30|                          307|                         341|                    10.5|                    25.9|                      4.8|                  63|                    981.8|                 0|                    -1|\n",
      "|15/11/2022 06:20|15/11/2022 12:20|                          323|                         327|                    16.6|                    33.8|                      4.9|                  63|                    981.8|                 0|                    -1|\n",
      "|15/11/2022 06:10|15/11/2022 12:10|                          307|                         327|                    12.6|                      23|                      5.7|                  60|                    981.7|                 0|                    -1|\n",
      "|15/11/2022 06:00|15/11/2022 12:00|                          290|                         345|                    11.5|                    23.8|                      6.7|                  55|                    981.6|                 0|                    -1|\n",
      "|15/11/2022 05:50|15/11/2022 11:50|                          275|                         357|                      21|                    34.9|                      7.1|                  51|                    981.4|                 0|                    -1|\n",
      "|15/11/2022 05:40|15/11/2022 11:40|                          215|                           7|                    11.9|                    32.4|                      7.5|                  49|                    981.3|                 0|                    -1|\n",
      "+----------------+----------------+-----------------------------+----------------------------+------------------------+------------------------+-------------------------+--------------------+-------------------------+------------------+----------------------+\n",
      "only showing top 20 rows\n",
      "\n"
     ]
    }
   ],
   "source": [
    "#Mostramos los datos cargados\n",
    "df_NuevaR.show()"
   ]
  },
  {
   "cell_type": "code",
   "execution_count": 160,
   "id": "61ff874e",
   "metadata": {},
   "outputs": [
    {
     "data": {
      "text/plain": [
       "12615"
      ]
     },
     "execution_count": 160,
     "metadata": {},
     "output_type": "execute_result"
    }
   ],
   "source": [
    "#Verificamos la cantidad de datos que contiene el dataset\n",
    "df_NuevaR.count()"
   ]
  },
  {
   "cell_type": "code",
   "execution_count": 161,
   "id": "84affb8f",
   "metadata": {},
   "outputs": [
    {
     "data": {
      "text/plain": [
       "['Fecha Local',\n",
       " 'Fecha UTC',\n",
       " 'Dirección del Viento (grados)',\n",
       " 'Dirección de ráfaga (grados)',\n",
       " 'Rapidez de viento (km/h)',\n",
       " 'Rapidez de ráfaga (km/h)',\n",
       " 'Temperatura del Aire (°C)',\n",
       " 'Humedad relativa (%)',\n",
       " 'Presión Atmosférica (hpa)',\n",
       " 'Precipitación (mm)',\n",
       " 'Radiación Solar (W/m²)']"
      ]
     },
     "execution_count": 161,
     "metadata": {},
     "output_type": "execute_result"
    }
   ],
   "source": [
    "#Verificamos las columnas que contiene\n",
    "df_NuevaR.columns"
   ]
  },
  {
   "cell_type": "code",
   "execution_count": 162,
   "id": "c0dba788",
   "metadata": {},
   "outputs": [],
   "source": [
    "#Creamos un subconjunto que filtrar las 4 columnas seleccionadas para trabajar \n",
    "col_NuevaR = ['Fecha Local', 'Dirección del Viento (grados)', 'Humedad relativa (%)', 'Precipitación (mm)']"
   ]
  },
  {
   "cell_type": "code",
   "execution_count": 163,
   "id": "aedea86c",
   "metadata": {},
   "outputs": [],
   "source": [
    "subconjunto = df_NuevaR.select(*col_NuevaR)"
   ]
  },
  {
   "cell_type": "code",
   "execution_count": 164,
   "id": "0f96516b",
   "metadata": {
    "collapsed": true
   },
   "outputs": [
    {
     "name": "stdout",
     "output_type": "stream",
     "text": [
      "+----------------+-----------------------------+--------------------+------------------+\n",
      "|     Fecha Local|Dirección del Viento (grados)|Humedad relativa (%)|Precipitación (mm)|\n",
      "+----------------+-----------------------------+--------------------+------------------+\n",
      "|15/11/2022 08:50|                           62|                  40|                 0|\n",
      "|15/11/2022 08:40|                          106|                  41|                 0|\n",
      "|15/11/2022 08:30|                           52|                  42|                 0|\n",
      "|15/11/2022 08:20|                           50|                  41|                 0|\n",
      "|15/11/2022 08:10|                           99|                  42|                 0|\n",
      "|15/11/2022 08:00|                           68|                  44|                 0|\n",
      "|15/11/2022 07:50|                          103|                  47|                 0|\n",
      "|15/11/2022 07:40|                          119|                  51|                 0|\n",
      "|15/11/2022 07:30|                          200|                  58|                 0|\n",
      "|15/11/2022 07:20|                          101|                  62|                 0|\n",
      "|15/11/2022 07:10|                          269|                  65|                 0|\n",
      "|15/11/2022 07:00|                          169|                  65|                 0|\n",
      "|15/11/2022 06:50|                          228|                  63|                 0|\n",
      "|15/11/2022 06:40|                          245|                  63|                 0|\n",
      "|15/11/2022 06:30|                          307|                  63|                 0|\n",
      "|15/11/2022 06:20|                          323|                  63|                 0|\n",
      "|15/11/2022 06:10|                          307|                  60|                 0|\n",
      "|15/11/2022 06:00|                          290|                  55|                 0|\n",
      "|15/11/2022 05:50|                          275|                  51|                 0|\n",
      "|15/11/2022 05:40|                          215|                  49|                 0|\n",
      "+----------------+-----------------------------+--------------------+------------------+\n",
      "only showing top 20 rows\n",
      "\n"
     ]
    }
   ],
   "source": [
    "subconjunto.show()"
   ]
  },
  {
   "cell_type": "code",
   "execution_count": 166,
   "id": "e1af3c89",
   "metadata": {},
   "outputs": [
    {
     "data": {
      "text/plain": [
       "0"
      ]
     },
     "execution_count": 166,
     "metadata": {},
     "output_type": "execute_result"
    }
   ],
   "source": [
    "#Mostramos la cantidad de datos vacios en el subconjunto segun la Precipitación (mm)\n",
    "subconjunto.filter((df_NuevaR['Precipitación (mm)']=='')|(df_NuevaR['Precipitación (mm)'].isNull())|(isnan(df_NuevaR['Precipitación (mm)']))).count()"
   ]
  },
  {
   "cell_type": "code",
   "execution_count": 167,
   "id": "0d7e4fd5",
   "metadata": {},
   "outputs": [],
   "source": [
    "#Para empezar a manipular los datos del dataset,\n",
    "#utilizaremos un subconjunto temporal \n",
    "#para evitar modificaciones en el dataset original,\n",
    "#lo primero a realizar en el subconjunto temporal\n",
    "#es eliminar los datos nulos o vacios\n",
    "temp_NuevaR = subconjunto.filter((df_NuevaR['Humedad relativa (%)']!='')&(df_NuevaR['Humedad relativa (%)'].isNotNull())&(~isnan(df_NuevaR['Humedad relativa (%)'])))"
   ]
  },
  {
   "cell_type": "code",
   "execution_count": 168,
   "id": "f09c5024",
   "metadata": {},
   "outputs": [],
   "source": [
    "#Renombramos dos columnas con la funcion withColumnRenamed\n",
    "temp_NuevaR = temp_NuevaR.withColumnRenamed('Fecha Local','ID Fecha').withColumnRenamed('Humedad relativa (%)', 'Humedad').withColumnRenamed('Precipitación (mm)', 'Caida de agua')"
   ]
  },
  {
   "cell_type": "code",
   "execution_count": 171,
   "id": "8c0ad19e",
   "metadata": {},
   "outputs": [
    {
     "data": {
      "text/plain": [
       "['ID Fecha', 'Dirección del Viento (grados)', 'Humedad', 'Caida de agua']"
      ]
     },
     "execution_count": 171,
     "metadata": {},
     "output_type": "execute_result"
    }
   ],
   "source": [
    "temp_NuevaR.columns"
   ]
  },
  {
   "cell_type": "code",
   "execution_count": 173,
   "id": "bf19280f",
   "metadata": {
    "collapsed": true
   },
   "outputs": [
    {
     "name": "stdout",
     "output_type": "stream",
     "text": [
      "+-------+\n",
      "|Humedad|\n",
      "+-------+\n",
      "|     67|\n",
      "|     66|\n",
      "|     65|\n",
      "|     65|\n",
      "|     64|\n",
      "|     65|\n",
      "|     66|\n",
      "|     65|\n",
      "|     67|\n",
      "|     68|\n",
      "|     68|\n",
      "|     68|\n",
      "|     70|\n",
      "|     73|\n",
      "|     73|\n",
      "|     72|\n",
      "|     70|\n",
      "|     69|\n",
      "|     66|\n",
      "|     63|\n",
      "+-------+\n",
      "only showing top 20 rows\n",
      "\n"
     ]
    }
   ],
   "source": [
    "#Filtramos los datos de la columna 'Humedad',\n",
    "#pero solo se mostraran los de la fecha 10/10/2022\n",
    "#utilizamos la funcion \"contains\" que comparara los string que tengan la fecha '10/10/2022'\n",
    "Data2 = temp_NuevaR.select('Humedad')\n",
    "Data2.filter(temp_NuevaR['ID Fecha'].contains(\"10/10/2022\")).show()"
   ]
  },
  {
   "cell_type": "code",
   "execution_count": 176,
   "id": "c4f3407b",
   "metadata": {
    "collapsed": true
   },
   "outputs": [
    {
     "name": "stdout",
     "output_type": "stream",
     "text": [
      "+-------------+-----+\n",
      "|Caida de agua|count|\n",
      "+-------------+-----+\n",
      "|            0|12607|\n",
      "+-------------+-----+\n",
      "\n"
     ]
    }
   ],
   "source": [
    "#Numero de repeticiones que aparece \n",
    "#un dato en la columna 'caida de agua'\n",
    "#Se ordenaron de manera ascendente\n",
    "temp_NuevaR.groupBy(temp_NuevaR['Caida de agua']).count().sort(asc('count')).show()"
   ]
  },
  {
   "cell_type": "markdown",
   "id": "ef2a3a71",
   "metadata": {},
   "source": [
    "### Dataset \"Estacion_OCAMPO__90_dias\"\n"
   ]
  },
  {
   "cell_type": "code",
   "execution_count": 177,
   "id": "9c3c3b15",
   "metadata": {},
   "outputs": [],
   "source": [
    "#Cargamos nuestro Dataset a trabajar con las especificaciones\n",
    "#necesarias para la correcta lectura\n",
    "df_Ocam = spark.read.format(\"csv\")\\\n",
    ".option(\"inferSchema\", False)\\\n",
    ".option(\"header\",True)\\\n",
    ".option(\"sep\", \",\")\\\n",
    ".load(arch_Ocam)"
   ]
  },
  {
   "cell_type": "code",
   "execution_count": 178,
   "id": "7514b5b4",
   "metadata": {},
   "outputs": [
    {
     "name": "stdout",
     "output_type": "stream",
     "text": [
      "+-----------+---------+-------------------------+------------------+--------------------+-------------------------+----------------------+-----------------------------+------------------------+----------------------------+------------------------+\n",
      "|Fecha Local|Fecha UTC|Temperatura del Aire (°C)|Precipitación (mm)|Humedad relativa (%)|Presión Atmosférica (hpa)|Radiación Solar (W/m²)|Dirección del Viento (grados)|Rapidez de viento (km/h)|Dirección de ráfaga (grados)|Rapidez de ráfaga (km/h)|\n",
      "+-----------+---------+-------------------------+------------------+--------------------+-------------------------+----------------------+-----------------------------+------------------------+----------------------------+------------------------+\n",
      "+-----------+---------+-------------------------+------------------+--------------------+-------------------------+----------------------+-----------------------------+------------------------+----------------------------+------------------------+\n",
      "\n"
     ]
    }
   ],
   "source": [
    "df_Ocam.show()"
   ]
  },
  {
   "cell_type": "code",
   "execution_count": 179,
   "id": "79d51297",
   "metadata": {},
   "outputs": [
    {
     "data": {
      "text/plain": [
       "['Fecha Local',\n",
       " 'Fecha UTC',\n",
       " 'Temperatura del Aire (°C)',\n",
       " 'Precipitación (mm)',\n",
       " 'Humedad relativa (%)',\n",
       " 'Presión Atmosférica (hpa)',\n",
       " 'Radiación Solar (W/m²)',\n",
       " 'Dirección del Viento (grados)',\n",
       " 'Rapidez de viento (km/h)',\n",
       " 'Dirección de ráfaga (grados)',\n",
       " 'Rapidez de ráfaga (km/h)']"
      ]
     },
     "execution_count": 179,
     "metadata": {},
     "output_type": "execute_result"
    }
   ],
   "source": [
    "#Mostramos las columnas del dataset\n",
    "df_Ocam.columns"
   ]
  },
  {
   "cell_type": "code",
   "execution_count": 181,
   "id": "e484c8f0",
   "metadata": {},
   "outputs": [
    {
     "data": {
      "text/plain": [
       "0"
      ]
     },
     "execution_count": 181,
     "metadata": {},
     "output_type": "execute_result"
    }
   ],
   "source": [
    "#Cantidad de datos totales \n",
    "df_Ocam.filter((df_Ocam['Fecha Local']!='')&(df_Ocam['Fecha Local'].isNotNull())&(~isnan(df_Ocam['Fecha Local']))).count()"
   ]
  },
  {
   "cell_type": "code",
   "execution_count": 182,
   "id": "da880609",
   "metadata": {},
   "outputs": [
    {
     "data": {
      "text/plain": [
       "0"
      ]
     },
     "execution_count": 182,
     "metadata": {},
     "output_type": "execute_result"
    }
   ],
   "source": [
    "#Cantidad de datos vacios segun Fecha Local\n",
    "df_Ocam.filter((df_Ocam['Fecha Local']=='')|(df_Ocam['Fecha Local'].isNull())|(isnan(df_Ocam['Fecha Local']))).count()"
   ]
  },
  {
   "cell_type": "markdown",
   "id": "8524d63d",
   "metadata": {},
   "source": [
    "### Dataset \"Estacion_OCAMPOSMN__90_dias\""
   ]
  },
  {
   "cell_type": "code",
   "execution_count": 183,
   "id": "ce53ca93",
   "metadata": {},
   "outputs": [],
   "source": [
    "#Cargamos nuestro Dataset a trabajar con las especificaciones\n",
    "#necesarias para la correcta lectura\n",
    "df_OcamSMN = spark.read.format(\"csv\")\\\n",
    ".option(\"inferSchema\", False)\\\n",
    ".option(\"header\",True)\\\n",
    ".option(\"sep\", \",\")\\\n",
    ".load(arch_OcamSMN)"
   ]
  },
  {
   "cell_type": "code",
   "execution_count": 186,
   "id": "e44af6d8",
   "metadata": {},
   "outputs": [
    {
     "data": {
      "text/plain": [
       "12859"
      ]
     },
     "execution_count": 186,
     "metadata": {},
     "output_type": "execute_result"
    }
   ],
   "source": [
    "#Verificamos la cantidad de datos que contiene el dataset\n",
    "df_OcamSMN.count()"
   ]
  },
  {
   "cell_type": "code",
   "execution_count": 187,
   "id": "9e63e78b",
   "metadata": {},
   "outputs": [
    {
     "data": {
      "text/plain": [
       "['Fecha Local',\n",
       " 'Fecha UTC',\n",
       " 'Dirección del Viento (grados)',\n",
       " 'Dirección de ráfaga (grados)',\n",
       " 'Rapidez de viento (km/h)',\n",
       " 'Rapidez de ráfaga (km/h)',\n",
       " 'Temperatura del Aire (°C)',\n",
       " 'Humedad relativa (%)',\n",
       " 'Presión Atmosférica (hpa)',\n",
       " 'Precipitación (mm)',\n",
       " 'Radiación Solar (W/m²)']"
      ]
     },
     "execution_count": 187,
     "metadata": {},
     "output_type": "execute_result"
    }
   ],
   "source": [
    "#Verificamos las columnas que contiene\n",
    "df_OcamSMN.columns"
   ]
  },
  {
   "cell_type": "code",
   "execution_count": 189,
   "id": "0229837d",
   "metadata": {},
   "outputs": [
    {
     "data": {
      "text/plain": [
       "0"
      ]
     },
     "execution_count": 189,
     "metadata": {},
     "output_type": "execute_result"
    }
   ],
   "source": [
    "#Cantidad de datos vacios segun Fecha Local\n",
    "df_OcamSMN.filter((df_OcamSMN['Radiación Solar (W/m²)']=='')|(df_OcamSMN['Radiación Solar (W/m²)'].isNull())|(isnan(df_OcamSMN['Radiación Solar (W/m²)']))).count()"
   ]
  },
  {
   "cell_type": "code",
   "execution_count": 190,
   "id": "83b87cbd",
   "metadata": {},
   "outputs": [
    {
     "data": {
      "text/plain": [
       "DataFrame[summary: string, Fecha Local: string, Fecha UTC: string, Dirección del Viento (grados): string, Dirección de ráfaga (grados): string, Rapidez de viento (km/h): string, Rapidez de ráfaga (km/h): string, Temperatura del Aire (°C): string, Humedad relativa (%): string, Presión Atmosférica (hpa): string, Precipitación (mm): string, Radiación Solar (W/m²): string]"
      ]
     },
     "execution_count": 190,
     "metadata": {},
     "output_type": "execute_result"
    }
   ],
   "source": [
    "#Nos muestra de manera un poco mas detallada las columnas con su valor\n",
    "df_OcamSMN.describe()"
   ]
  },
  {
   "cell_type": "code",
   "execution_count": 195,
   "id": "1ab31d28",
   "metadata": {
    "collapsed": true
   },
   "outputs": [
    {
     "name": "stdout",
     "output_type": "stream",
     "text": [
      "+----------------------+-----+\n",
      "|Radiación Solar (W/m²)|count|\n",
      "+----------------------+-----+\n",
      "|                     0| 1778|\n",
      "|                     1|   17|\n",
      "|                     7|   11|\n",
      "|                     8|    9|\n",
      "|                     2|    9|\n",
      "|                    16|    9|\n",
      "|                   507|    7|\n",
      "|                    20|    7|\n",
      "|                    14|    7|\n",
      "|                    62|    7|\n",
      "|                    12|    7|\n",
      "|                   880|    6|\n",
      "|                   757|    6|\n",
      "|                     3|    6|\n",
      "|                   871|    6|\n",
      "|                   899|    6|\n",
      "|                   869|    6|\n",
      "|                   279|    6|\n",
      "|                    23|    6|\n",
      "|                   202|    6|\n",
      "+----------------------+-----+\n",
      "only showing top 20 rows\n",
      "\n"
     ]
    }
   ],
   "source": [
    "#filtamos los datos que esten entre las fecha del 20/09/22 y el 28/10/2022\n",
    "#para despues agrupar los datos de la 'Radiación Solar (W/m²)'\n",
    "#despues se muestran los datos repetidos con la cantidad de repeticiones\n",
    "Data1 = df_OcamSMN.filter((df_OcamSMN['Fecha Local'] >= '20/09/2022')&(df_OcamSMN['Fecha Local']<='28/10/2022'))\n",
    "Data1.groupby(df_OcamSMN['Radiación Solar (W/m²)']).count().filter(\"`count` > 1\").sort(col(\"count\").desc()).show()"
   ]
  },
  {
   "cell_type": "code",
   "execution_count": 200,
   "id": "f0cbcd9b",
   "metadata": {
    "collapsed": true
   },
   "outputs": [
    {
     "name": "stdout",
     "output_type": "stream",
     "text": [
      "+----------------------------+-----+\n",
      "|Dirección de ráfaga (grados)|count|\n",
      "+----------------------------+-----+\n",
      "|                         296|    7|\n",
      "|                         125|  131|\n",
      "|                         124|  159|\n",
      "|                          51|   19|\n",
      "|                         307|    5|\n",
      "|                         334|    2|\n",
      "|                         205|    2|\n",
      "|                         169|    7|\n",
      "|                         272|   47|\n",
      "|                         234|   12|\n",
      "|                          54|   25|\n",
      "|                         282|   20|\n",
      "|                         232|   14|\n",
      "|                          15|    1|\n",
      "|                         155|    6|\n",
      "|                         132|   22|\n",
      "|                         154|    8|\n",
      "|                         317|    2|\n",
      "|                         200|    1|\n",
      "|                         101|  222|\n",
      "+----------------------------+-----+\n",
      "only showing top 20 rows\n",
      "\n"
     ]
    }
   ],
   "source": [
    "#Calcular las frecuencias por columna\n",
    "#en este ejercicio se utilizo la columna 'Dirección de ráfaga (grados)'\n",
    "df_OcamSMN.groupBy(df_OcamSMN['Dirección de ráfaga (grados)']).count().show()"
   ]
  },
  {
   "cell_type": "markdown",
   "id": "4698592a",
   "metadata": {},
   "source": [
    "### Pandas"
   ]
  },
  {
   "cell_type": "code",
   "execution_count": 201,
   "id": "9fa869f3",
   "metadata": {},
   "outputs": [],
   "source": [
    "import matplotlib.pyplot as plt"
   ]
  },
  {
   "cell_type": "code",
   "execution_count": 204,
   "id": "b8bb9372",
   "metadata": {},
   "outputs": [
    {
     "data": {
      "text/html": [
       "<div>\n",
       "<style scoped>\n",
       "    .dataframe tbody tr th:only-of-type {\n",
       "        vertical-align: middle;\n",
       "    }\n",
       "\n",
       "    .dataframe tbody tr th {\n",
       "        vertical-align: top;\n",
       "    }\n",
       "\n",
       "    .dataframe thead th {\n",
       "        text-align: right;\n",
       "    }\n",
       "</style>\n",
       "<table border=\"1\" class=\"dataframe\">\n",
       "  <thead>\n",
       "    <tr style=\"text-align: right;\">\n",
       "      <th></th>\n",
       "      <th>Fecha Local</th>\n",
       "      <th>Fecha UTC</th>\n",
       "      <th>Dirección del Viento (grados)</th>\n",
       "      <th>Dirección de ráfaga (grados)</th>\n",
       "      <th>Rapidez de viento (km/h)</th>\n",
       "      <th>Rapidez de ráfaga (km/h)</th>\n",
       "      <th>Temperatura del Aire (°C)</th>\n",
       "      <th>Humedad relativa (%)</th>\n",
       "      <th>Presión Atmosférica (hpa)</th>\n",
       "      <th>Precipitación (mm)</th>\n",
       "      <th>Radiación Solar (W/m²)</th>\n",
       "    </tr>\n",
       "  </thead>\n",
       "  <tbody>\n",
       "    <tr>\n",
       "      <th>0</th>\n",
       "      <td>15/11/2022 08:50</td>\n",
       "      <td>15/11/2022 14:50</td>\n",
       "      <td>92</td>\n",
       "      <td>91</td>\n",
       "      <td>10.7</td>\n",
       "      <td>14.6</td>\n",
       "      <td>4.5</td>\n",
       "      <td>47</td>\n",
       "      <td>836.9</td>\n",
       "      <td>0</td>\n",
       "      <td>224</td>\n",
       "    </tr>\n",
       "    <tr>\n",
       "      <th>1</th>\n",
       "      <td>15/11/2022 08:40</td>\n",
       "      <td>15/11/2022 14:40</td>\n",
       "      <td>95</td>\n",
       "      <td>95</td>\n",
       "      <td>10.6</td>\n",
       "      <td>15.2</td>\n",
       "      <td>4.5</td>\n",
       "      <td>47</td>\n",
       "      <td>836.8</td>\n",
       "      <td>0</td>\n",
       "      <td>167</td>\n",
       "    </tr>\n",
       "    <tr>\n",
       "      <th>2</th>\n",
       "      <td>15/11/2022 08:30</td>\n",
       "      <td>15/11/2022 14:30</td>\n",
       "      <td>92</td>\n",
       "      <td>93</td>\n",
       "      <td>13.5</td>\n",
       "      <td>16.7</td>\n",
       "      <td>4.3</td>\n",
       "      <td>47</td>\n",
       "      <td>836.5</td>\n",
       "      <td>0</td>\n",
       "      <td>215</td>\n",
       "    </tr>\n",
       "    <tr>\n",
       "      <th>3</th>\n",
       "      <td>15/11/2022 08:20</td>\n",
       "      <td>15/11/2022 14:20</td>\n",
       "      <td>87</td>\n",
       "      <td>91</td>\n",
       "      <td>12.7</td>\n",
       "      <td>15.8</td>\n",
       "      <td>3.9</td>\n",
       "      <td>49</td>\n",
       "      <td>836.5</td>\n",
       "      <td>0</td>\n",
       "      <td>174</td>\n",
       "    </tr>\n",
       "    <tr>\n",
       "      <th>4</th>\n",
       "      <td>15/11/2022 08:10</td>\n",
       "      <td>15/11/2022 14:10</td>\n",
       "      <td>87</td>\n",
       "      <td>84</td>\n",
       "      <td>12.4</td>\n",
       "      <td>15.5</td>\n",
       "      <td>3.6</td>\n",
       "      <td>50</td>\n",
       "      <td>836.4</td>\n",
       "      <td>0</td>\n",
       "      <td>103</td>\n",
       "    </tr>\n",
       "    <tr>\n",
       "      <th>...</th>\n",
       "      <td>...</td>\n",
       "      <td>...</td>\n",
       "      <td>...</td>\n",
       "      <td>...</td>\n",
       "      <td>...</td>\n",
       "      <td>...</td>\n",
       "      <td>...</td>\n",
       "      <td>...</td>\n",
       "      <td>...</td>\n",
       "      <td>...</td>\n",
       "      <td>...</td>\n",
       "    </tr>\n",
       "    <tr>\n",
       "      <th>12854</th>\n",
       "      <td>17/08/2022 10:40</td>\n",
       "      <td>17/08/2022 15:40</td>\n",
       "      <td>104</td>\n",
       "      <td>121</td>\n",
       "      <td>7.2</td>\n",
       "      <td>10.2</td>\n",
       "      <td>20.6</td>\n",
       "      <td>82</td>\n",
       "      <td>836.1</td>\n",
       "      <td>0</td>\n",
       "      <td>449</td>\n",
       "    </tr>\n",
       "    <tr>\n",
       "      <th>12855</th>\n",
       "      <td>17/08/2022 10:30</td>\n",
       "      <td>17/08/2022 15:30</td>\n",
       "      <td>102</td>\n",
       "      <td>100</td>\n",
       "      <td>8.1</td>\n",
       "      <td>12.2</td>\n",
       "      <td>20.5</td>\n",
       "      <td>83</td>\n",
       "      <td>836</td>\n",
       "      <td>0</td>\n",
       "      <td>271</td>\n",
       "    </tr>\n",
       "    <tr>\n",
       "      <th>12856</th>\n",
       "      <td>17/08/2022 10:20</td>\n",
       "      <td>17/08/2022 15:20</td>\n",
       "      <td>104</td>\n",
       "      <td>87</td>\n",
       "      <td>8.1</td>\n",
       "      <td>12.6</td>\n",
       "      <td>20.2</td>\n",
       "      <td>85</td>\n",
       "      <td>836</td>\n",
       "      <td>0</td>\n",
       "      <td>519</td>\n",
       "    </tr>\n",
       "    <tr>\n",
       "      <th>12857</th>\n",
       "      <td>17/08/2022 10:10</td>\n",
       "      <td>17/08/2022 15:10</td>\n",
       "      <td>97</td>\n",
       "      <td>95</td>\n",
       "      <td>8.2</td>\n",
       "      <td>12.3</td>\n",
       "      <td>19.8</td>\n",
       "      <td>87</td>\n",
       "      <td>836</td>\n",
       "      <td>0</td>\n",
       "      <td>262</td>\n",
       "    </tr>\n",
       "    <tr>\n",
       "      <th>12858</th>\n",
       "      <td>17/08/2022 10:00</td>\n",
       "      <td>17/08/2022 15:00</td>\n",
       "      <td>97</td>\n",
       "      <td>87</td>\n",
       "      <td>8.3</td>\n",
       "      <td>12.2</td>\n",
       "      <td>19.7</td>\n",
       "      <td>89</td>\n",
       "      <td>836.1</td>\n",
       "      <td>0</td>\n",
       "      <td>250</td>\n",
       "    </tr>\n",
       "  </tbody>\n",
       "</table>\n",
       "<p>12859 rows × 11 columns</p>\n",
       "</div>"
      ],
      "text/plain": [
       "            Fecha Local         Fecha UTC Dirección del Viento (grados)  \\\n",
       "0      15/11/2022 08:50  15/11/2022 14:50                            92   \n",
       "1      15/11/2022 08:40  15/11/2022 14:40                            95   \n",
       "2      15/11/2022 08:30  15/11/2022 14:30                            92   \n",
       "3      15/11/2022 08:20  15/11/2022 14:20                            87   \n",
       "4      15/11/2022 08:10  15/11/2022 14:10                            87   \n",
       "...                 ...               ...                           ...   \n",
       "12854  17/08/2022 10:40  17/08/2022 15:40                           104   \n",
       "12855  17/08/2022 10:30  17/08/2022 15:30                           102   \n",
       "12856  17/08/2022 10:20  17/08/2022 15:20                           104   \n",
       "12857  17/08/2022 10:10  17/08/2022 15:10                            97   \n",
       "12858  17/08/2022 10:00  17/08/2022 15:00                            97   \n",
       "\n",
       "      Dirección de ráfaga (grados) Rapidez de viento (km/h)  \\\n",
       "0                               91                     10.7   \n",
       "1                               95                     10.6   \n",
       "2                               93                     13.5   \n",
       "3                               91                     12.7   \n",
       "4                               84                     12.4   \n",
       "...                            ...                      ...   \n",
       "12854                          121                      7.2   \n",
       "12855                          100                      8.1   \n",
       "12856                           87                      8.1   \n",
       "12857                           95                      8.2   \n",
       "12858                           87                      8.3   \n",
       "\n",
       "      Rapidez de ráfaga (km/h) Temperatura del Aire (°C) Humedad relativa (%)  \\\n",
       "0                         14.6                       4.5                   47   \n",
       "1                         15.2                       4.5                   47   \n",
       "2                         16.7                       4.3                   47   \n",
       "3                         15.8                       3.9                   49   \n",
       "4                         15.5                       3.6                   50   \n",
       "...                        ...                       ...                  ...   \n",
       "12854                     10.2                      20.6                   82   \n",
       "12855                     12.2                      20.5                   83   \n",
       "12856                     12.6                      20.2                   85   \n",
       "12857                     12.3                      19.8                   87   \n",
       "12858                     12.2                      19.7                   89   \n",
       "\n",
       "      Presión Atmosférica (hpa) Precipitación (mm) Radiación Solar (W/m²)  \n",
       "0                         836.9                  0                    224  \n",
       "1                         836.8                  0                    167  \n",
       "2                         836.5                  0                    215  \n",
       "3                         836.5                  0                    174  \n",
       "4                         836.4                  0                    103  \n",
       "...                         ...                ...                    ...  \n",
       "12854                     836.1                  0                    449  \n",
       "12855                       836                  0                    271  \n",
       "12856                       836                  0                    519  \n",
       "12857                       836                  0                    262  \n",
       "12858                     836.1                  0                    250  \n",
       "\n",
       "[12859 rows x 11 columns]"
      ]
     },
     "execution_count": 204,
     "metadata": {},
     "output_type": "execute_result"
    }
   ],
   "source": [
    "df_OcamSMN_Pandas = df_OcamSMN.toPandas()\n",
    "df_OcamSMN_Pandas.dropna()"
   ]
  },
  {
   "cell_type": "code",
   "execution_count": 214,
   "id": "d1f8e5e2",
   "metadata": {},
   "outputs": [],
   "source": [
    "#Convertir budget a flotante\n",
    "df_OcamSMN = df_OcamSMN.withColumn(\"Dirección del Viento (grados)\", df_OcamSMN[\"Dirección del Viento (grados)\"].cast(\"float\"))"
   ]
  }
 ],
 "metadata": {
  "kernelspec": {
   "display_name": "Python 3 (ipykernel)",
   "language": "python",
   "name": "python3"
  },
  "language_info": {
   "codemirror_mode": {
    "name": "ipython",
    "version": 3
   },
   "file_extension": ".py",
   "mimetype": "text/x-python",
   "name": "python",
   "nbconvert_exporter": "python",
   "pygments_lexer": "ipython3",
   "version": "3.9.13"
  }
 },
 "nbformat": 4,
 "nbformat_minor": 5
}
