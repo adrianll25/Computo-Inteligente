{
 "cells": [
  {
   "cell_type": "markdown",
   "id": "63e3dda3",
   "metadata": {},
   "source": [
    "# API - Rest\n",
    "google OMDB : http://omdbapi.com/ solicitar api key gratuita"
   ]
  },
  {
   "cell_type": "code",
   "execution_count": 48,
   "id": "5fde2ad8",
   "metadata": {},
   "outputs": [],
   "source": [
    "clave = \"32f313c0\"\n",
    "uri = \"http://www.omdbapi.com/?&apikey=\" + clave"
   ]
  },
  {
   "cell_type": "code",
   "execution_count": 49,
   "id": "ebe4f687",
   "metadata": {},
   "outputs": [],
   "source": [
    "import requests\n",
    "import json"
   ]
  },
  {
   "cell_type": "code",
   "execution_count": 50,
   "id": "c1a575c8",
   "metadata": {},
   "outputs": [
    {
     "data": {
      "text/plain": [
       "{'Search': [{'Title': 'Nope',\n",
       "   'Year': '2022',\n",
       "   'imdbID': 'tt10954984',\n",
       "   'Type': 'movie',\n",
       "   'Poster': 'https://m.media-amazon.com/images/M/MV5BNGM1MDc3ZjgtODlkOS00NmZjLWJlOTItNGQ5OGFhN2JlNjgxXkEyXkFqcGdeQXVyNjk1Njg5NTA@._V1_SX300.jpg'},\n",
       "  {'Title': 'Nope',\n",
       "   'Year': '2017',\n",
       "   'imdbID': 'tt11040562',\n",
       "   'Type': 'movie',\n",
       "   'Poster': 'https://m.media-amazon.com/images/M/MV5BZWI4NTVlZjUtYmMxNC00NmUzLThhNzYtZDg2MzMyNDNlZWViXkEyXkFqcGdeQXVyMTA0Mzk1MTY2._V1_SX300.jpg'},\n",
       "  {'Title': 'Yep and Nope',\n",
       "   'Year': '1975',\n",
       "   'imdbID': 'tt12434324',\n",
       "   'Type': 'movie',\n",
       "   'Poster': 'N/A'},\n",
       "  {'Title': 'Nope!',\n",
       "   'Year': '2021',\n",
       "   'imdbID': 'tt15479832',\n",
       "   'Type': 'movie',\n",
       "   'Poster': 'https://m.media-amazon.com/images/M/MV5BZDUwM2MwOTYtNzdhZi00NDc4LWExN2MtMTExMTZlNjdlZWY1XkEyXkFqcGdeQXVyMzM3NDY2NTY@._V1_SX300.jpg'},\n",
       "  {'Title': 'Nope (2022)',\n",
       "   'Year': '2022',\n",
       "   'imdbID': 'tt21674540',\n",
       "   'Type': 'movie',\n",
       "   'Poster': 'https://m.media-amazon.com/images/M/MV5BZmY1MDUyZmYtODkyZi00MjE5LTk3MTctNjcwN2NmOGY2OThkXkEyXkFqcGdeQXVyNTMxMTQ1NTk@._V1_SX300.jpg'},\n",
       "  {'Title': 'NOPE (2022)',\n",
       "   'Year': '2022',\n",
       "   'imdbID': 'tt21750186',\n",
       "   'Type': 'movie',\n",
       "   'Poster': 'N/A'},\n",
       "  {'Title': 'Sexless After 45, Nope 40',\n",
       "   'Year': '2015',\n",
       "   'imdbID': 'tt4667272',\n",
       "   'Type': 'movie',\n",
       "   'Poster': 'https://m.media-amazon.com/images/M/MV5BYWEwMjgxMjQtMjc4My00ZGQ4LTlkZTMtMTQwZGQwYTllYWY2XkEyXkFqcGdeQXVyODczNjg3NDc@._V1_SX300.jpg'},\n",
       "  {'Title': 'Nope',\n",
       "   'Year': '2015',\n",
       "   'imdbID': 'tt5309740',\n",
       "   'Type': 'movie',\n",
       "   'Poster': 'N/A'},\n",
       "  {'Title': 'Pre-Nope',\n",
       "   'Year': '2016',\n",
       "   'imdbID': 'tt5948342',\n",
       "   'Type': 'movie',\n",
       "   'Poster': 'N/A'},\n",
       "  {'Title': 'Arach-NOPE-Phobia',\n",
       "   'Year': '2016',\n",
       "   'imdbID': 'tt6203270',\n",
       "   'Type': 'movie',\n",
       "   'Poster': 'https://m.media-amazon.com/images/M/MV5BZmQ1ZTg4ZGEtOGNhOS00YmJhLWFjMjAtMWExOThkYjFjZTc0XkEyXkFqcGdeQXVyMzY1ODkyODc@._V1_SX300.jpg'}],\n",
       " 'totalResults': '10',\n",
       " 'Response': 'True'}"
      ]
     },
     "execution_count": 50,
     "metadata": {},
     "output_type": "execute_result"
    }
   ],
   "source": [
    "#Busqueda con valor, s\n",
    "consulta = requests.get(uri, {\"s\" : \"nope\", \"type\" : \"movie\"})\n",
    "consulta.json()"
   ]
  },
  {
   "cell_type": "code",
   "execution_count": 51,
   "id": "5cf7d6f2",
   "metadata": {},
   "outputs": [
    {
     "data": {
      "text/plain": [
       "{'Title': 'Nope',\n",
       " 'Year': '2022',\n",
       " 'Rated': 'R',\n",
       " 'Released': '22 Jul 2022',\n",
       " 'Runtime': '130 min',\n",
       " 'Genre': 'Horror, Mystery, Sci-Fi',\n",
       " 'Director': 'Jordan Peele',\n",
       " 'Writer': 'Jordan Peele',\n",
       " 'Actors': 'Daniel Kaluuya, Keke Palmer, Brandon Perea',\n",
       " 'Plot': 'The residents of a lonely gulch in inland California bear witness to an uncanny and chilling discovery.',\n",
       " 'Language': 'English',\n",
       " 'Country': 'United States, Japan, Canada',\n",
       " 'Awards': '1 win & 7 nominations',\n",
       " 'Poster': 'https://m.media-amazon.com/images/M/MV5BNGM1MDc3ZjgtODlkOS00NmZjLWJlOTItNGQ5OGFhN2JlNjgxXkEyXkFqcGdeQXVyNjk1Njg5NTA@._V1_SX300.jpg',\n",
       " 'Ratings': [{'Source': 'Internet Movie Database', 'Value': '6.9/10'},\n",
       "  {'Source': 'Rotten Tomatoes', 'Value': '82%'},\n",
       "  {'Source': 'Metacritic', 'Value': '77/100'}],\n",
       " 'Metascore': '77',\n",
       " 'imdbRating': '6.9',\n",
       " 'imdbVotes': '137,021',\n",
       " 'imdbID': 'tt10954984',\n",
       " 'Type': 'movie',\n",
       " 'DVD': '18 Nov 2022',\n",
       " 'BoxOffice': '$123,277,080',\n",
       " 'Production': 'N/A',\n",
       " 'Website': 'N/A',\n",
       " 'Response': 'True'}"
      ]
     },
     "execution_count": 51,
     "metadata": {},
     "output_type": "execute_result"
    }
   ],
   "source": [
    "#Consulta de informacion \n",
    "consulta_info = requests.get(uri, {\"i\" : \"tt10954984\", \"type\" : \"movie\"})\n",
    "consulta_info.json()"
   ]
  },
  {
   "cell_type": "code",
   "execution_count": null,
   "id": "abb1bc16",
   "metadata": {},
   "outputs": [],
   "source": []
  },
  {
   "cell_type": "code",
   "execution_count": null,
   "id": "7be31b55",
   "metadata": {},
   "outputs": [],
   "source": []
  }
 ],
 "metadata": {
  "kernelspec": {
   "display_name": "Python 3 (ipykernel)",
   "language": "python",
   "name": "python3"
  },
  "language_info": {
   "codemirror_mode": {
    "name": "ipython",
    "version": 3
   },
   "file_extension": ".py",
   "mimetype": "text/x-python",
   "name": "python",
   "nbconvert_exporter": "python",
   "pygments_lexer": "ipython3",
   "version": "3.9.13"
  }
 },
 "nbformat": 4,
 "nbformat_minor": 5
}
