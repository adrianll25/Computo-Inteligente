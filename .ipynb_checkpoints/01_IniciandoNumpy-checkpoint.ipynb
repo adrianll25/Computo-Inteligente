{
 "cells": [
  {
   "cell_type": "markdown",
   "id": "0b142d7f",
   "metadata": {},
   "source": [
    "# Numpy\n",
    "\n",
    "Es una libreria matematica (optmizada) para matrices, álgebra lineal y transformacion de Fourier.\n",
    "\n",
    "**Su nombre proviene de: Numerical Python.\n",
    "    \n",
    "**Es una libreria que esta escrita en su mayor parte en lenguanje C (en su mayoria) y C++ lo que hace que el\n",
    "procesamiento de informacion sea 50 veces mas rapida que phyton sin la libreria.\n",
    "\n",
    "**ndarray: es un objeto \"array\" o arreglo que tiene muchas funciones por que hace que sea esta libreria sea utilizada en\n",
    "Data Science."
   ]
  },
  {
   "cell_type": "code",
   "execution_count": 1,
   "id": "35f78e86",
   "metadata": {},
   "outputs": [],
   "source": [
    "import numpy"
   ]
  },
  {
   "cell_type": "code",
   "execution_count": 2,
   "id": "7156a7f8",
   "metadata": {},
   "outputs": [
    {
     "name": "stdout",
     "output_type": "stream",
     "text": [
      "[1 2 3]\n"
     ]
    }
   ],
   "source": [
    "arreglo = numpy.array([1, 2, 3])\n",
    "print(arreglo)"
   ]
  },
  {
   "cell_type": "code",
   "execution_count": 3,
   "id": "5563f857",
   "metadata": {},
   "outputs": [
    {
     "data": {
      "text/plain": [
       "numpy.ndarray"
      ]
     },
     "execution_count": 3,
     "metadata": {},
     "output_type": "execute_result"
    }
   ],
   "source": [
    "type(arreglo)"
   ]
  },
  {
   "cell_type": "code",
   "execution_count": 4,
   "id": "9906a721",
   "metadata": {},
   "outputs": [],
   "source": [
    "import numpy as np"
   ]
  },
  {
   "cell_type": "code",
   "execution_count": 5,
   "id": "a0ec6973",
   "metadata": {},
   "outputs": [
    {
     "name": "stdout",
     "output_type": "stream",
     "text": [
      "[1 2 3]\n"
     ]
    }
   ],
   "source": [
    "arreglo = np.array([1, 2, 3])\n",
    "print(arreglo)"
   ]
  },
  {
   "cell_type": "code",
   "execution_count": 6,
   "id": "0af3c0f8",
   "metadata": {},
   "outputs": [],
   "source": [
    "np?"
   ]
  },
  {
   "cell_type": "code",
   "execution_count": 7,
   "id": "7f6a997f",
   "metadata": {},
   "outputs": [
    {
     "name": "stdout",
     "output_type": "stream",
     "text": [
      "3\n"
     ]
    }
   ],
   "source": [
    "#Dimensionamiento de arreglos:\n",
    "#una dimension de un arreglo es el nivel de profundidad del arreglo\n",
    "#(Anidamiento)\n",
    "#Escalares o 0 - D\n",
    "\n",
    "arreglo = np.array(3)\n",
    "print(arreglo)"
   ]
  },
  {
   "cell_type": "code",
   "execution_count": 10,
   "id": "c1d6bcb0",
   "metadata": {},
   "outputs": [
    {
     "name": "stdout",
     "output_type": "stream",
     "text": [
      "0\n",
      "1\n",
      "2\n",
      "3\n"
     ]
    }
   ],
   "source": [
    "#Numpy tiene un abtributo: ndim que regresa el numero de dimensiones\n",
    "cero = np.array(17)\n",
    "uno = np.array([1, 2, 3, 4, 5])\n",
    "dos = np.array([[1, 2, 3], [4, 5, 6]])\n",
    "tres = np.array([[[1, 2, 3], [4, 5, 6]], [[1, 2, 3], [4, 5, 6]]])\n",
    "\n",
    "print(cero.ndim)\n",
    "print(uno.ndim)\n",
    "print(dos.ndim)\n",
    "print(tres.ndim)"
   ]
  },
  {
   "cell_type": "code",
   "execution_count": 11,
   "id": "e184dbb0",
   "metadata": {},
   "outputs": [
    {
     "data": {
      "text/plain": [
       "numpy.ndarray"
      ]
     },
     "execution_count": 11,
     "metadata": {},
     "output_type": "execute_result"
    }
   ],
   "source": [
    "type(tres)"
   ]
  },
  {
   "cell_type": "code",
   "execution_count": 14,
   "id": "6edc6e24",
   "metadata": {},
   "outputs": [
    {
     "name": "stdout",
     "output_type": "stream",
     "text": [
      "[[[[1 2 3]]]]\n",
      "Dia :  4\n"
     ]
    }
   ],
   "source": [
    "#Otro atributo, solo que este es cuando se crea\n",
    "#el arreglo\n",
    "arreglo = np.array([1, 2, 3], ndmin = 4)\n",
    "print(arreglo)\n",
    "print(\"Dia : \", arreglo.ndim)"
   ]
  },
  {
   "cell_type": "code",
   "execution_count": 17,
   "id": "8ac646ea",
   "metadata": {},
   "outputs": [
    {
     "name": "stdout",
     "output_type": "stream",
     "text": [
      "1\n",
      "2\n"
     ]
    }
   ],
   "source": [
    "#Elementos de un arreglo\n",
    "arreglo = np.array([1, 2, 3])\n",
    "print(arreglo[0])\n",
    "print(arreglo[0] * arreglo[1])"
   ]
  },
  {
   "cell_type": "code",
   "execution_count": 20,
   "id": "04b51e36",
   "metadata": {},
   "outputs": [
    {
     "name": "stdout",
     "output_type": "stream",
     "text": [
      "2\n",
      "6\n",
      "12\n"
     ]
    }
   ],
   "source": [
    "#Ahora con dimensiones\n",
    "dos = np.array([[1, 2, 3], [4, 5, 6]])\n",
    "tres = np.array([[[1, 2, 3], [4, 5, 6]], [[7, 8, 9], [10, 11, 12]]])\n",
    "\n",
    "print(dos[0, 1]) #en la dim 1 el segundo elemento\n",
    "print(dos[1, 2]) #en la dim 2 en el tercer elemento\n",
    "print(tres[1, 1, 2])\n",
    "#en la dim 1\n",
    "#[[[1, 2, 3], [4, 5, 6], [7, 8, 9], [10, 11, 12]]\n",
    "#Dim 1: [10, 11, 12], elemento 2: 12\n"
   ]
  },
  {
   "cell_type": "code",
   "execution_count": 23,
   "id": "7b9deab8",
   "metadata": {},
   "outputs": [
    {
     "name": "stdout",
     "output_type": "stream",
     "text": [
      "[1 2 3]\n",
      "[1 2 3]\n",
      "[1 2]\n",
      "[]\n",
      "[3 6 9]\n",
      "[1 3 5 7 9]\n",
      "[2 3]\n",
      "[2 5]\n",
      "[[2 3]\n",
      " [5 6]]\n"
     ]
    }
   ],
   "source": [
    "#Se incluye el limite inferior pero no el superior\n",
    "arreglo = np.array([1, 2, 3])\n",
    "print(arreglo[0:3])\n",
    "print(arreglo[0:])\n",
    "print(arreglo[:2])\n",
    "print(arreglo[-1:-2])\n",
    "#Saltos o pasos en un arreglo\n",
    "arreglo = np.array([1, 2, 3, 4, 5, 6, 7, 8, 9, 10])\n",
    "print(arreglo[2:9:3])\n",
    "print(arreglo[::2])\n",
    "dos = np.array([[1, 2, 3], [4, 5, 6]])\n",
    "print(dos[0, 1:3])\n",
    "print(dos[0:2, 1])\n",
    "print(dos[0:2, 1:3])"
   ]
  },
  {
   "cell_type": "markdown",
   "id": "bc287794",
   "metadata": {},
   "source": [
    "# Tipo de datos\n",
    "\n",
    "-Python: strings, integer, float, boolean, complex\n",
    "-Numpy: i-integer, b-boolean, u-unsigned integer, f-float, complex float, S-string, U-unicode, V-void\n"
   ]
  },
  {
   "cell_type": "code",
   "execution_count": 24,
   "id": "bd8dab2c",
   "metadata": {},
   "outputs": [
    {
     "name": "stdout",
     "output_type": "stream",
     "text": [
      "int32\n",
      "float64\n"
     ]
    }
   ],
   "source": [
    "arreglo = np.array([1, 2, 3])\n",
    "print(arreglo.dtype)\n",
    "arreglo = np.array([2.5, 70.45, 100.0])\n",
    "print(arreglo.dtype)"
   ]
  },
  {
   "cell_type": "code",
   "execution_count": 25,
   "id": "f8993fb5",
   "metadata": {},
   "outputs": [
    {
     "name": "stdout",
     "output_type": "stream",
     "text": [
      "[1 2 3]\n",
      "int32\n"
     ]
    }
   ],
   "source": [
    "arreglo = np.array([1, 2, 3], dtype = \"i4\")\n",
    "print(arreglo)\n",
    "print(arreglo.dtype)"
   ]
  },
  {
   "cell_type": "code",
   "execution_count": 26,
   "id": "ab04d3ae",
   "metadata": {},
   "outputs": [
    {
     "ename": "ValueError",
     "evalue": "invalid literal for int() with base 10: 'Hugo'",
     "output_type": "error",
     "traceback": [
      "\u001b[1;31m---------------------------------------------------------------------------\u001b[0m",
      "\u001b[1;31mValueError\u001b[0m                                Traceback (most recent call last)",
      "Input \u001b[1;32mIn [26]\u001b[0m, in \u001b[0;36m<cell line: 1>\u001b[1;34m()\u001b[0m\n\u001b[1;32m----> 1\u001b[0m arreglo \u001b[38;5;241m=\u001b[39m \u001b[43mnp\u001b[49m\u001b[38;5;241;43m.\u001b[39;49m\u001b[43marray\u001b[49m\u001b[43m(\u001b[49m\u001b[43m[\u001b[49m\u001b[38;5;124;43m\"\u001b[39;49m\u001b[38;5;124;43mHugo\u001b[39;49m\u001b[38;5;124;43m\"\u001b[39;49m\u001b[43m,\u001b[49m\u001b[43m \u001b[49m\u001b[38;5;241;43m2\u001b[39;49m\u001b[43m,\u001b[49m\u001b[43m \u001b[49m\u001b[38;5;124;43m\"\u001b[39;49m\u001b[38;5;124;43mLuis\u001b[39;49m\u001b[38;5;124;43m\"\u001b[39;49m\u001b[43m]\u001b[49m\u001b[43m,\u001b[49m\u001b[43m \u001b[49m\u001b[43mdtype\u001b[49m\u001b[43m \u001b[49m\u001b[38;5;241;43m=\u001b[39;49m\u001b[38;5;124;43m\"\u001b[39;49m\u001b[38;5;124;43mi\u001b[39;49m\u001b[38;5;124;43m\"\u001b[39;49m\u001b[43m)\u001b[49m\n",
      "\u001b[1;31mValueError\u001b[0m: invalid literal for int() with base 10: 'Hugo'"
     ]
    }
   ],
   "source": [
    "arreglo = np.array([\"Hugo\", 2, \"Luis\"], dtype =\"i\")"
   ]
  },
  {
   "cell_type": "code",
   "execution_count": 27,
   "id": "f662208b",
   "metadata": {},
   "outputs": [
    {
     "name": "stdout",
     "output_type": "stream",
     "text": [
      "[  2  70 100   0  -1]\n",
      "int32\n",
      "[ True  True  True False  True]\n",
      "bool\n"
     ]
    }
   ],
   "source": [
    "arreglo = np.array([2.5, 70.45, 100.0, 0, -1])\n",
    "#crea una copia del arreglo y convierte el tipo de dato\n",
    "nuevo = arreglo.astype(\"i\") #o int\n",
    "print(nuevo)\n",
    "print(nuevo.dtype)\n",
    "nnuevo = nuevo.astype(bool)\n",
    "print(nnuevo)\n",
    "print(nnuevo.dtype)"
   ]
  },
  {
   "cell_type": "code",
   "execution_count": 1,
   "id": "ebb1051f",
   "metadata": {},
   "outputs": [],
   "source": [
    "import numpy as np\n"
   ]
  },
  {
   "cell_type": "code",
   "execution_count": 7,
   "id": "1353ad4f",
   "metadata": {},
   "outputs": [
    {
     "name": "stdout",
     "output_type": "stream",
     "text": [
      "[10  2  3]\n",
      "[ 1 20  3]\n",
      "[10  2  3]\n"
     ]
    }
   ],
   "source": [
    "#Copiar::copia arreglo original, no modifica\n",
    "#Los elementos del arreglo original\n",
    "arreglo = np.array([1, 2, 3])\n",
    "nuevo = arreglo.copy()\n",
    "arreglo[0] = 10\n",
    "nuevo[1] = 20\n",
    "print(arreglo)\n",
    "print(nuevo)\n",
    "print(arreglo)"
   ]
  },
  {
   "cell_type": "code",
   "execution_count": 8,
   "id": "cba5237e",
   "metadata": {},
   "outputs": [
    {
     "name": "stdout",
     "output_type": "stream",
     "text": [
      "[10 20  3]\n",
      "[10 20  3]\n"
     ]
    }
   ],
   "source": [
    "#VISTA: copia el arreglo original y\n",
    "#las modificaciones que se realicen\n",
    "#modifican el arreglo original\n",
    "arreglo = np.array([1, 2, 3])\n",
    "nuevo = arreglo.view()\n",
    "arreglo[0] = 10\n",
    "nuevo[1] = 20\n",
    "print(nuevo)\n",
    "print(arreglo)"
   ]
  },
  {
   "cell_type": "code",
   "execution_count": 10,
   "id": "b9d72fa7",
   "metadata": {},
   "outputs": [
    {
     "name": "stdout",
     "output_type": "stream",
     "text": [
      "None\n",
      "[1 2 3]\n"
     ]
    }
   ],
   "source": [
    "#Atributo: base\n",
    "arreglo = np.array([1, 2, 3])\n",
    "copia = arreglo.copy()\n",
    "vista = arreglo.view()\n",
    "\n",
    "print(copia.base) #None tiene su propia informacion\n",
    "print(vista.base)"
   ]
  },
  {
   "cell_type": "code",
   "execution_count": 11,
   "id": "e40e038e",
   "metadata": {},
   "outputs": [
    {
     "name": "stdout",
     "output_type": "stream",
     "text": [
      "(2, 3)\n"
     ]
    }
   ],
   "source": [
    "#shaoe: regresa una tupla con el numero\n",
    "#de elementos en cada dimension\n",
    "dos = np.array([[1, 2, 3], [4, 5, 6]])\n",
    "print(dos.shape)"
   ]
  },
  {
   "cell_type": "code",
   "execution_count": 13,
   "id": "115ec059",
   "metadata": {},
   "outputs": [
    {
     "name": "stdout",
     "output_type": "stream",
     "text": [
      "[[[[[1 2 3]]]]]\n",
      "(1, 1, 1, 1, 3)\n"
     ]
    }
   ],
   "source": [
    "cinco = np.array([1, 2, 3], ndmin = 5)\n",
    "print(cinco)\n",
    "print(cinco.shape)"
   ]
  },
  {
   "cell_type": "code",
   "execution_count": 18,
   "id": "ff8983f1",
   "metadata": {},
   "outputs": [
    {
     "name": "stdout",
     "output_type": "stream",
     "text": [
      "[[ 1  2  3  4  5]\n",
      " [ 6  7  8  9 10]]\n"
     ]
    }
   ],
   "source": [
    "#reshape: convierte un arreglo de una dimension a otra dimension\n",
    "#numero de arreglo, numero de elemtos\n",
    "arreglo = np.array([1, 2, 3, 4, 5, 6, 7, 8, 9, 10])\n",
    "#dos arreglos, de 5 elementos cada arreglo\n",
    "nuevo = arreglo.reshape(2, 5)\n",
    "print(nuevo)"
   ]
  },
  {
   "cell_type": "code",
   "execution_count": 16,
   "id": "2d11a64a",
   "metadata": {},
   "outputs": [
    {
     "name": "stdout",
     "output_type": "stream",
     "text": [
      "[[[ 1  2  3]\n",
      "  [ 4  5  6]]\n",
      "\n",
      " [[ 7  8  9]\n",
      "  [10 11 12]]]\n"
     ]
    }
   ],
   "source": [
    "arreglo = np.array([1, 2, 3, 4, 5, 6, 7, 8, 9, 10, 11, 12])\n",
    "nuevo = arreglo.reshape(2, 2, 3)\n",
    "print(nuevo)"
   ]
  },
  {
   "cell_type": "code",
   "execution_count": 19,
   "id": "279061ea",
   "metadata": {},
   "outputs": [
    {
     "name": "stdout",
     "output_type": "stream",
     "text": [
      "[[[ 1]\n",
      "  [ 2]\n",
      "  [ 3]\n",
      "  [ 4]\n",
      "  [ 5]]\n",
      "\n",
      " [[ 6]\n",
      "  [ 7]\n",
      "  [ 8]\n",
      "  [ 9]\n",
      "  [10]]]\n"
     ]
    }
   ],
   "source": [
    "arreglo = np.array([1, 2, 3, 4, 5, 6, 7, 8, 9, 10])\n",
    "nuevo = arreglo.reshape(2, 5, -1) #-1, Numpy calcula este numero\n",
    "#solo se puede utilizar una dimension\n",
    "print(nuevo)"
   ]
  },
  {
   "cell_type": "code",
   "execution_count": 20,
   "id": "7f2029f9",
   "metadata": {},
   "outputs": [
    {
     "name": "stdout",
     "output_type": "stream",
     "text": [
      "[ 1  2  3  4  5  6  7  8  9 10]\n"
     ]
    }
   ],
   "source": [
    "#Convierte un arreglo muntidimensional a una dimension\n",
    "n = nuevo.reshape(-1)\n",
    "print(n)"
   ]
  },
  {
   "cell_type": "code",
   "execution_count": 21,
   "id": "ea1d799a",
   "metadata": {},
   "outputs": [
    {
     "name": "stdout",
     "output_type": "stream",
     "text": [
      "1\n",
      "2\n",
      "3\n"
     ]
    }
   ],
   "source": [
    "arreglo = np.array([1, 2, 3])\n",
    "for i in arreglo:\n",
    "    print(i)"
   ]
  },
  {
   "cell_type": "code",
   "execution_count": 22,
   "id": "0e0a0c08",
   "metadata": {},
   "outputs": [
    {
     "name": "stdout",
     "output_type": "stream",
     "text": [
      "[1 2 3]\n",
      "[4 5 6]\n"
     ]
    }
   ],
   "source": [
    "arreglo = ([1, 2, 3], [4, 5, 6])\n",
    "for i in dos:\n",
    "    print(i)"
   ]
  },
  {
   "cell_type": "code",
   "execution_count": 24,
   "id": "1d321fd4",
   "metadata": {},
   "outputs": [
    {
     "name": "stdout",
     "output_type": "stream",
     "text": [
      "1\n",
      "2\n",
      "3\n",
      "4\n",
      "5\n",
      "6\n"
     ]
    }
   ],
   "source": [
    "#dos dimensiones\n",
    "dos = np.array([[1, 2, 3], [4, 5, 6]])\n",
    "for i in dos:\n",
    "    for j in i:\n",
    "        print(j)"
   ]
  },
  {
   "cell_type": "code",
   "execution_count": 25,
   "id": "f8630b7a",
   "metadata": {},
   "outputs": [
    {
     "name": "stdout",
     "output_type": "stream",
     "text": [
      "[[1 2 3]\n",
      " [4 5 6]]\n",
      "[[ 7  8  9]\n",
      " [10 11 12]]\n"
     ]
    }
   ],
   "source": [
    "tres = np.array([[[1, 2, 3], [4, 5, 6]], [[7, 8, 9], [10, 11, 12]]])\n",
    "for i in tres:\n",
    "    print(i)"
   ]
  },
  {
   "cell_type": "code",
   "execution_count": 26,
   "id": "541b8c94",
   "metadata": {},
   "outputs": [
    {
     "name": "stdout",
     "output_type": "stream",
     "text": [
      "1\n",
      "2\n",
      "3\n",
      "4\n",
      "5\n",
      "6\n",
      "7\n",
      "8\n",
      "9\n",
      "10\n",
      "11\n",
      "12\n"
     ]
    }
   ],
   "source": [
    "#Iteracciones sencillos -> complejas\n",
    "#nditer()\n",
    "#Iteración sencilla\n",
    "for i in np.nditer(tres):\n",
    "    print(i)"
   ]
  },
  {
   "cell_type": "code",
   "execution_count": 28,
   "id": "f0c9d04b",
   "metadata": {},
   "outputs": [
    {
     "name": "stdout",
     "output_type": "stream",
     "text": [
      "b'1'\n",
      "b'2'\n",
      "b'3'\n"
     ]
    }
   ],
   "source": [
    "arreglo = np.array([1, 2, 3])\n",
    "#No se cambia el tipo de dato.\n",
    "#Crea un Buffer para realizar la accion que se solicita\n",
    "for i in np.nditer(arreglo, flags = [\"buffered\"], op_dtypes=[\"S\"]):\n",
    "    print(i)\n",
    "                   "
   ]
  },
  {
   "cell_type": "code",
   "execution_count": 2,
   "id": "5890cfe5",
   "metadata": {},
   "outputs": [],
   "source": [
    "import numpy as np"
   ]
  },
  {
   "cell_type": "code",
   "execution_count": 6,
   "id": "96232d24",
   "metadata": {},
   "outputs": [
    {
     "name": "stdout",
     "output_type": "stream",
     "text": [
      "Arreglo:  [array([1, 2, 3, 4]), array([5, 6, 7]), array([ 8,  9, 10])]\n",
      "Arreglo1:  [1 2 3 4]\n",
      "Arreglo:2  [5 6 7]\n",
      "Arreglo: 3 [ 8  9 10]\n",
      "Imprime:  [1 2 3 4]\n",
      "Imprime:  [5 6 7]\n",
      "Imprime:  [ 8  9 10]\n"
     ]
    }
   ],
   "source": [
    "uno = np.array([1, 2, 3, 4, 5, 6, 7, 8, 9, 10])\n",
    "arreglo = np.array_split(uno, 3) #Divide en 3 renglones\n",
    "a, b, c = np.array_split(uno, 3)\n",
    "print(\"Arreglo: \", arreglo)\n",
    "print(\"Arreglo1: \", arreglo[0])\n",
    "print(\"Arreglo:2 \", arreglo[1])\n",
    "print(\"Arreglo: 3\", arreglo[2])\n",
    "print(\"Imprime: \", a)\n",
    "print(\"Imprime: \", b)\n",
    "print(\"Imprime: \", c)"
   ]
  },
  {
   "cell_type": "code",
   "execution_count": 7,
   "id": "2390073a",
   "metadata": {},
   "outputs": [
    {
     "name": "stdout",
     "output_type": "stream",
     "text": [
      "(1, 2, 3)\n"
     ]
    }
   ],
   "source": [
    "g = 1, 2, 3\n",
    "print(g)"
   ]
  },
  {
   "cell_type": "code",
   "execution_count": 8,
   "id": "4a29ff15",
   "metadata": {},
   "outputs": [
    {
     "name": "stdout",
     "output_type": "stream",
     "text": [
      "Busqueda en uno:  (array([7], dtype=int64),)\n",
      "Pares en uno:  (array([1, 3, 5, 7, 9], dtype=int64),)\n"
     ]
    }
   ],
   "source": [
    "uno = np.array([1, 2, 3, 4, 5, 6, 7, 8, 9, 10])\n",
    "#Busquedad en un arreglo, devuelve una tupla\n",
    "print(\"Busqueda en uno: \", np.where(uno == 8))\n",
    "print(\"Pares en uno: \", np.where(uno%2 == 0))"
   ]
  },
  {
   "cell_type": "code",
   "execution_count": 13,
   "id": "19f00a84",
   "metadata": {},
   "outputs": [
    {
     "name": "stdout",
     "output_type": "stream",
     "text": [
      "[5, 3, 1]\n"
     ]
    }
   ],
   "source": [
    "examen = [1, 2, 3, 4, 5]\n",
    "print(examen[:: -2])"
   ]
  },
  {
   "cell_type": "code",
   "execution_count": 14,
   "id": "c0ec3120",
   "metadata": {},
   "outputs": [
    {
     "name": "stdout",
     "output_type": "stream",
     "text": [
      "Ordenamos uno:  [ 1  2  6  8 10]\n",
      "Ordenamos dos:  [[ 2  6 10]\n",
      " [ 1  8  9]]\n"
     ]
    }
   ],
   "source": [
    "#Ordenando\n",
    "uno = np.array([10, 6, 2, 8, 1])\n",
    "dos = np.array([[10, 6, 2], [8, 1, 9]])\n",
    "print(\"Ordenamos uno: \", np.sort(uno))\n",
    "print(\"Ordenamos dos: \", np.sort(dos))"
   ]
  },
  {
   "cell_type": "code",
   "execution_count": 15,
   "id": "138db722",
   "metadata": {},
   "outputs": [
    {
     "name": "stdout",
     "output_type": "stream",
     "text": [
      "[2]\n"
     ]
    }
   ],
   "source": [
    "#Comparación a manera filtrada\n",
    "arreglo = np.array([1, 2, 3])\n",
    "val = [False, True, False]\n",
    "nuevo = arreglo[val]\n",
    "print(nuevo)"
   ]
  },
  {
   "cell_type": "code",
   "execution_count": 16,
   "id": "a263c51f",
   "metadata": {},
   "outputs": [
    {
     "name": "stdout",
     "output_type": "stream",
     "text": [
      "[False, False, False]\n",
      "[]\n"
     ]
    }
   ],
   "source": [
    "arreglo = np.array([1, 2, 3])\n",
    "val = []\n",
    "for i in arreglo:\n",
    "    if 1 > 2:\n",
    "        val.append(True)\n",
    "    else:\n",
    "        val.append(False)\n",
    "nuevo = arreglo[val]\n",
    "print(val)\n",
    "print(nuevo)"
   ]
  },
  {
   "cell_type": "code",
   "execution_count": 17,
   "id": "20c29216",
   "metadata": {},
   "outputs": [
    {
     "name": "stdout",
     "output_type": "stream",
     "text": [
      "[False False  True]\n",
      "[3]\n"
     ]
    }
   ],
   "source": [
    " #Otra manera de filtrar, mas directa\n",
    "arreglo = np.array([1, 2, 3])\n",
    "val = arreglo > 2\n",
    "nuevo = arreglo[val]\n",
    "print(val)\n",
    "print(nuevo)"
   ]
  },
  {
   "cell_type": "code",
   "execution_count": null,
   "id": "fda0d49d",
   "metadata": {},
   "outputs": [],
   "source": []
  }
 ],
 "metadata": {
  "kernelspec": {
   "display_name": "Python 3 (ipykernel)",
   "language": "python",
   "name": "python3"
  },
  "language_info": {
   "codemirror_mode": {
    "name": "ipython",
    "version": 3
   },
   "file_extension": ".py",
   "mimetype": "text/x-python",
   "name": "python",
   "nbconvert_exporter": "python",
   "pygments_lexer": "ipython3",
   "version": "3.9.12"
  }
 },
 "nbformat": 4,
 "nbformat_minor": 5
}
